{
 "cells": [
  {
   "cell_type": "code",
   "execution_count": 1,
   "id": "09a4b1f6",
   "metadata": {
    "_cell_guid": "b1076dfc-b9ad-4769-8c92-a6c4dae69d19",
    "_uuid": "8f2839f25d086af736a60e9eeb907d3b93b6e0e5",
    "execution": {
     "iopub.execute_input": "2024-10-20T14:09:27.362018Z",
     "iopub.status.busy": "2024-10-20T14:09:27.361409Z",
     "iopub.status.idle": "2024-10-20T14:09:45.215593Z",
     "shell.execute_reply": "2024-10-20T14:09:45.214189Z"
    },
    "papermill": {
     "duration": 17.868333,
     "end_time": "2024-10-20T14:09:45.218609",
     "exception": false,
     "start_time": "2024-10-20T14:09:27.350276",
     "status": "completed"
    },
    "tags": []
   },
   "outputs": [
    {
     "name": "stdout",
     "output_type": "stream",
     "text": [
      "Collecting flaml\r\n",
      "  Downloading FLAML-2.3.1-py3-none-any.whl.metadata (16 kB)\r\n",
      "Requirement already satisfied: NumPy>=1.17 in /opt/conda/lib/python3.10/site-packages (from flaml) (1.26.4)\r\n",
      "Downloading FLAML-2.3.1-py3-none-any.whl (313 kB)\r\n",
      "\u001b[2K   \u001b[90m━━━━━━━━━━━━━━━━━━━━━━━━━━━━━━━━━━━━━━━━\u001b[0m \u001b[32m313.3/313.3 kB\u001b[0m \u001b[31m6.4 MB/s\u001b[0m eta \u001b[36m0:00:00\u001b[0m\r\n",
      "\u001b[?25hInstalling collected packages: flaml\r\n",
      "Successfully installed flaml-2.3.1\r\n",
      "Note: you may need to restart the kernel to use updated packages.\n"
     ]
    }
   ],
   "source": [
    "pip install flaml"
   ]
  },
  {
   "cell_type": "code",
   "execution_count": 2,
   "id": "6504e13b",
   "metadata": {
    "execution": {
     "iopub.execute_input": "2024-10-20T14:09:45.239549Z",
     "iopub.status.busy": "2024-10-20T14:09:45.239094Z",
     "iopub.status.idle": "2024-10-20T14:10:00.454615Z",
     "shell.execute_reply": "2024-10-20T14:10:00.453110Z"
    },
    "papermill": {
     "duration": 15.22987,
     "end_time": "2024-10-20T14:10:00.458034",
     "exception": false,
     "start_time": "2024-10-20T14:09:45.228164",
     "status": "completed"
    },
    "tags": []
   },
   "outputs": [
    {
     "name": "stderr",
     "output_type": "stream",
     "text": [
      "2024-10-20 14:09:46,384\tINFO util.py:124 -- Outdated packages:\n",
      "  ipywidgets==7.7.1 found, needs ipywidgets>=8\n",
      "Run `pip install -U ipywidgets`, then restart the notebook server for rich notebook output.\n",
      "2024-10-20 14:09:48,174\tINFO util.py:124 -- Outdated packages:\n",
      "  ipywidgets==7.7.1 found, needs ipywidgets>=8\n",
      "Run `pip install -U ipywidgets`, then restart the notebook server for rich notebook output.\n"
     ]
    }
   ],
   "source": [
    "from flaml import autogen\n",
    "from flaml import AutoML\n",
    "import matplotlib.pyplot as plt\n",
    "import pickle\n",
    "from sklearn.model_selection import train_test_split\n",
    "from sklearn.preprocessing import LabelEncoder\n",
    "import xgboost as xgb\n",
    "from sklearn.metrics import accuracy_score\n"
   ]
  },
  {
   "cell_type": "code",
   "execution_count": 3,
   "id": "55870681",
   "metadata": {
    "execution": {
     "iopub.execute_input": "2024-10-20T14:10:00.480505Z",
     "iopub.status.busy": "2024-10-20T14:10:00.479612Z",
     "iopub.status.idle": "2024-10-20T14:10:00.486140Z",
     "shell.execute_reply": "2024-10-20T14:10:00.484633Z"
    },
    "papermill": {
     "duration": 0.020381,
     "end_time": "2024-10-20T14:10:00.488889",
     "exception": false,
     "start_time": "2024-10-20T14:10:00.468508",
     "status": "completed"
    },
    "tags": []
   },
   "outputs": [],
   "source": [
    "import pandas as pd"
   ]
  },
  {
   "cell_type": "code",
   "execution_count": 4,
   "id": "f4674dbb",
   "metadata": {
    "execution": {
     "iopub.execute_input": "2024-10-20T14:10:00.509414Z",
     "iopub.status.busy": "2024-10-20T14:10:00.508922Z",
     "iopub.status.idle": "2024-10-20T14:10:00.552523Z",
     "shell.execute_reply": "2024-10-20T14:10:00.551311Z"
    },
    "papermill": {
     "duration": 0.057743,
     "end_time": "2024-10-20T14:10:00.555878",
     "exception": false,
     "start_time": "2024-10-20T14:10:00.498135",
     "status": "completed"
    },
    "tags": []
   },
   "outputs": [],
   "source": [
    "df=pd.read_csv(\"/kaggle/input/encryption-dataset-2/encryption_attack_dataset.csv\")"
   ]
  },
  {
   "cell_type": "code",
   "execution_count": 5,
   "id": "2db18216",
   "metadata": {
    "execution": {
     "iopub.execute_input": "2024-10-20T14:10:00.577630Z",
     "iopub.status.busy": "2024-10-20T14:10:00.576704Z",
     "iopub.status.idle": "2024-10-20T14:10:00.606619Z",
     "shell.execute_reply": "2024-10-20T14:10:00.605064Z"
    },
    "papermill": {
     "duration": 0.043941,
     "end_time": "2024-10-20T14:10:00.609536",
     "exception": false,
     "start_time": "2024-10-20T14:10:00.565595",
     "status": "completed"
    },
    "tags": []
   },
   "outputs": [
    {
     "data": {
      "text/html": [
       "<div>\n",
       "<style scoped>\n",
       "    .dataframe tbody tr th:only-of-type {\n",
       "        vertical-align: middle;\n",
       "    }\n",
       "\n",
       "    .dataframe tbody tr th {\n",
       "        vertical-align: top;\n",
       "    }\n",
       "\n",
       "    .dataframe thead th {\n",
       "        text-align: right;\n",
       "    }\n",
       "</style>\n",
       "<table border=\"1\" class=\"dataframe\">\n",
       "  <thead>\n",
       "    <tr style=\"text-align: right;\">\n",
       "      <th></th>\n",
       "      <th>Algorithm</th>\n",
       "      <th>Key Size</th>\n",
       "      <th>Attack Type</th>\n",
       "      <th>Attack Success</th>\n",
       "    </tr>\n",
       "  </thead>\n",
       "  <tbody>\n",
       "    <tr>\n",
       "      <th>0</th>\n",
       "      <td>AES</td>\n",
       "      <td>128</td>\n",
       "      <td>Grover's Algorithm</td>\n",
       "      <td>True</td>\n",
       "    </tr>\n",
       "    <tr>\n",
       "      <th>1</th>\n",
       "      <td>McEliece</td>\n",
       "      <td>2048</td>\n",
       "      <td>Cryptoanalyzing</td>\n",
       "      <td>False</td>\n",
       "    </tr>\n",
       "    <tr>\n",
       "      <th>2</th>\n",
       "      <td>Kyber</td>\n",
       "      <td>192</td>\n",
       "      <td>Cryptoanalyzing</td>\n",
       "      <td>False</td>\n",
       "    </tr>\n",
       "    <tr>\n",
       "      <th>3</th>\n",
       "      <td>RC4</td>\n",
       "      <td>128</td>\n",
       "      <td>Shor's Algorithms</td>\n",
       "      <td>False</td>\n",
       "    </tr>\n",
       "    <tr>\n",
       "      <th>4</th>\n",
       "      <td>AES</td>\n",
       "      <td>128</td>\n",
       "      <td>Grover's Algorithm</td>\n",
       "      <td>False</td>\n",
       "    </tr>\n",
       "    <tr>\n",
       "      <th>...</th>\n",
       "      <td>...</td>\n",
       "      <td>...</td>\n",
       "      <td>...</td>\n",
       "      <td>...</td>\n",
       "    </tr>\n",
       "    <tr>\n",
       "      <th>19995</th>\n",
       "      <td>RC4</td>\n",
       "      <td>128</td>\n",
       "      <td>Cryptoanalyzing</td>\n",
       "      <td>True</td>\n",
       "    </tr>\n",
       "    <tr>\n",
       "      <th>19996</th>\n",
       "      <td>AES</td>\n",
       "      <td>128</td>\n",
       "      <td>Shor's Algorithms</td>\n",
       "      <td>True</td>\n",
       "    </tr>\n",
       "    <tr>\n",
       "      <th>19997</th>\n",
       "      <td>McEliece</td>\n",
       "      <td>2048</td>\n",
       "      <td>Shor's Algorithms</td>\n",
       "      <td>False</td>\n",
       "    </tr>\n",
       "    <tr>\n",
       "      <th>19998</th>\n",
       "      <td>Kyber</td>\n",
       "      <td>192</td>\n",
       "      <td>Shor's Algorithms</td>\n",
       "      <td>False</td>\n",
       "    </tr>\n",
       "    <tr>\n",
       "      <th>19999</th>\n",
       "      <td>RC4</td>\n",
       "      <td>128</td>\n",
       "      <td>Cryptoanalyzing</td>\n",
       "      <td>True</td>\n",
       "    </tr>\n",
       "  </tbody>\n",
       "</table>\n",
       "<p>20000 rows × 4 columns</p>\n",
       "</div>"
      ],
      "text/plain": [
       "      Algorithm  Key Size         Attack Type  Attack Success\n",
       "0           AES       128  Grover's Algorithm            True\n",
       "1      McEliece      2048     Cryptoanalyzing           False\n",
       "2         Kyber       192     Cryptoanalyzing           False\n",
       "3           RC4       128   Shor's Algorithms           False\n",
       "4           AES       128  Grover's Algorithm           False\n",
       "...         ...       ...                 ...             ...\n",
       "19995       RC4       128     Cryptoanalyzing            True\n",
       "19996       AES       128   Shor's Algorithms            True\n",
       "19997  McEliece      2048   Shor's Algorithms           False\n",
       "19998     Kyber       192   Shor's Algorithms           False\n",
       "19999       RC4       128     Cryptoanalyzing            True\n",
       "\n",
       "[20000 rows x 4 columns]"
      ]
     },
     "execution_count": 5,
     "metadata": {},
     "output_type": "execute_result"
    }
   ],
   "source": [
    "df"
   ]
  },
  {
   "cell_type": "code",
   "execution_count": 6,
   "id": "04a6b4f9",
   "metadata": {
    "execution": {
     "iopub.execute_input": "2024-10-20T14:10:00.632173Z",
     "iopub.status.busy": "2024-10-20T14:10:00.631751Z",
     "iopub.status.idle": "2024-10-20T14:10:00.643897Z",
     "shell.execute_reply": "2024-10-20T14:10:00.642766Z"
    },
    "papermill": {
     "duration": 0.027584,
     "end_time": "2024-10-20T14:10:00.646700",
     "exception": false,
     "start_time": "2024-10-20T14:10:00.619116",
     "status": "completed"
    },
    "tags": []
   },
   "outputs": [],
   "source": [
    "X=df[['Algorithm', \"Key Size\",\"Attack Type\"]]\n",
    "y=df[\"Attack Success\"]"
   ]
  },
  {
   "cell_type": "code",
   "execution_count": 7,
   "id": "e0d4cadc",
   "metadata": {
    "execution": {
     "iopub.execute_input": "2024-10-20T14:10:00.670557Z",
     "iopub.status.busy": "2024-10-20T14:10:00.669523Z",
     "iopub.status.idle": "2024-10-20T14:10:00.681227Z",
     "shell.execute_reply": "2024-10-20T14:10:00.679991Z"
    },
    "papermill": {
     "duration": 0.026924,
     "end_time": "2024-10-20T14:10:00.683889",
     "exception": false,
     "start_time": "2024-10-20T14:10:00.656965",
     "status": "completed"
    },
    "tags": []
   },
   "outputs": [
    {
     "data": {
      "text/plain": [
       "0         True\n",
       "1        False\n",
       "2        False\n",
       "3        False\n",
       "4        False\n",
       "         ...  \n",
       "19995     True\n",
       "19996     True\n",
       "19997    False\n",
       "19998    False\n",
       "19999     True\n",
       "Name: Attack Success, Length: 20000, dtype: bool"
      ]
     },
     "execution_count": 7,
     "metadata": {},
     "output_type": "execute_result"
    }
   ],
   "source": [
    "y"
   ]
  },
  {
   "cell_type": "code",
   "execution_count": 8,
   "id": "702d7d90",
   "metadata": {
    "execution": {
     "iopub.execute_input": "2024-10-20T14:10:00.705567Z",
     "iopub.status.busy": "2024-10-20T14:10:00.704983Z",
     "iopub.status.idle": "2024-10-20T14:10:00.726435Z",
     "shell.execute_reply": "2024-10-20T14:10:00.725254Z"
    },
    "papermill": {
     "duration": 0.03611,
     "end_time": "2024-10-20T14:10:00.729959",
     "exception": false,
     "start_time": "2024-10-20T14:10:00.693849",
     "status": "completed"
    },
    "tags": []
   },
   "outputs": [],
   "source": [
    "X_train, X_test, y_train, y_test= train_test_split(X, y,test_size=0.2, stratify=y, random_state=66 )"
   ]
  },
  {
   "cell_type": "code",
   "execution_count": 9,
   "id": "38b392ed",
   "metadata": {
    "execution": {
     "iopub.execute_input": "2024-10-20T14:10:00.752075Z",
     "iopub.status.busy": "2024-10-20T14:10:00.751631Z",
     "iopub.status.idle": "2024-10-20T14:10:00.766075Z",
     "shell.execute_reply": "2024-10-20T14:10:00.764681Z"
    },
    "papermill": {
     "duration": 0.028802,
     "end_time": "2024-10-20T14:10:00.768991",
     "exception": false,
     "start_time": "2024-10-20T14:10:00.740189",
     "status": "completed"
    },
    "tags": []
   },
   "outputs": [
    {
     "data": {
      "text/html": [
       "<div>\n",
       "<style scoped>\n",
       "    .dataframe tbody tr th:only-of-type {\n",
       "        vertical-align: middle;\n",
       "    }\n",
       "\n",
       "    .dataframe tbody tr th {\n",
       "        vertical-align: top;\n",
       "    }\n",
       "\n",
       "    .dataframe thead th {\n",
       "        text-align: right;\n",
       "    }\n",
       "</style>\n",
       "<table border=\"1\" class=\"dataframe\">\n",
       "  <thead>\n",
       "    <tr style=\"text-align: right;\">\n",
       "      <th></th>\n",
       "      <th>Algorithm</th>\n",
       "      <th>Key Size</th>\n",
       "      <th>Attack Type</th>\n",
       "    </tr>\n",
       "  </thead>\n",
       "  <tbody>\n",
       "    <tr>\n",
       "      <th>5677</th>\n",
       "      <td>McEliece</td>\n",
       "      <td>2048</td>\n",
       "      <td>Brute Force</td>\n",
       "    </tr>\n",
       "    <tr>\n",
       "      <th>8867</th>\n",
       "      <td>RC4</td>\n",
       "      <td>128</td>\n",
       "      <td>Grover's Algorithm</td>\n",
       "    </tr>\n",
       "    <tr>\n",
       "      <th>2709</th>\n",
       "      <td>McEliece</td>\n",
       "      <td>2048</td>\n",
       "      <td>Cryptoanalyzing</td>\n",
       "    </tr>\n",
       "    <tr>\n",
       "      <th>19808</th>\n",
       "      <td>AES</td>\n",
       "      <td>128</td>\n",
       "      <td>Grover's Algorithm</td>\n",
       "    </tr>\n",
       "    <tr>\n",
       "      <th>13041</th>\n",
       "      <td>McEliece</td>\n",
       "      <td>2048</td>\n",
       "      <td>Cryptoanalyzing</td>\n",
       "    </tr>\n",
       "    <tr>\n",
       "      <th>...</th>\n",
       "      <td>...</td>\n",
       "      <td>...</td>\n",
       "      <td>...</td>\n",
       "    </tr>\n",
       "    <tr>\n",
       "      <th>2363</th>\n",
       "      <td>RC4</td>\n",
       "      <td>128</td>\n",
       "      <td>Grover's Algorithm</td>\n",
       "    </tr>\n",
       "    <tr>\n",
       "      <th>10993</th>\n",
       "      <td>McEliece</td>\n",
       "      <td>2048</td>\n",
       "      <td>Grover's Algorithm</td>\n",
       "    </tr>\n",
       "    <tr>\n",
       "      <th>303</th>\n",
       "      <td>RC4</td>\n",
       "      <td>128</td>\n",
       "      <td>Cryptoanalyzing</td>\n",
       "    </tr>\n",
       "    <tr>\n",
       "      <th>4715</th>\n",
       "      <td>RC4</td>\n",
       "      <td>128</td>\n",
       "      <td>Brute Force</td>\n",
       "    </tr>\n",
       "    <tr>\n",
       "      <th>6946</th>\n",
       "      <td>Kyber</td>\n",
       "      <td>192</td>\n",
       "      <td>Brute Force</td>\n",
       "    </tr>\n",
       "  </tbody>\n",
       "</table>\n",
       "<p>16000 rows × 3 columns</p>\n",
       "</div>"
      ],
      "text/plain": [
       "      Algorithm  Key Size         Attack Type\n",
       "5677   McEliece      2048         Brute Force\n",
       "8867        RC4       128  Grover's Algorithm\n",
       "2709   McEliece      2048     Cryptoanalyzing\n",
       "19808       AES       128  Grover's Algorithm\n",
       "13041  McEliece      2048     Cryptoanalyzing\n",
       "...         ...       ...                 ...\n",
       "2363        RC4       128  Grover's Algorithm\n",
       "10993  McEliece      2048  Grover's Algorithm\n",
       "303         RC4       128     Cryptoanalyzing\n",
       "4715        RC4       128         Brute Force\n",
       "6946      Kyber       192         Brute Force\n",
       "\n",
       "[16000 rows x 3 columns]"
      ]
     },
     "execution_count": 9,
     "metadata": {},
     "output_type": "execute_result"
    }
   ],
   "source": [
    "X_train"
   ]
  },
  {
   "cell_type": "code",
   "execution_count": 10,
   "id": "d07dd377",
   "metadata": {
    "collapsed": true,
    "execution": {
     "iopub.execute_input": "2024-10-20T14:10:00.791501Z",
     "iopub.status.busy": "2024-10-20T14:10:00.791071Z",
     "iopub.status.idle": "2024-10-20T14:12:00.861087Z",
     "shell.execute_reply": "2024-10-20T14:12:00.859876Z"
    },
    "jupyter": {
     "outputs_hidden": true
    },
    "papermill": {
     "duration": 120.085477,
     "end_time": "2024-10-20T14:12:00.865077",
     "exception": false,
     "start_time": "2024-10-20T14:10:00.779600",
     "status": "completed"
    },
    "tags": []
   },
   "outputs": [
    {
     "name": "stdout",
     "output_type": "stream",
     "text": [
      "[flaml.automl.logger: 10-20 14:10:00] {1728} INFO - task = classification\n",
      "[flaml.automl.logger: 10-20 14:10:00] {1739} INFO - Evaluation method: cv\n",
      "[flaml.automl.logger: 10-20 14:10:00] {1838} INFO - Minimizing error metric: 1-roc_auc\n",
      "[flaml.automl.logger: 10-20 14:10:01] {1955} INFO - List of ML learners in AutoML Run: ['lgbm', 'rf', 'xgboost', 'extra_tree', 'xgb_limitdepth', 'sgd', 'catboost', 'lrl1']\n",
      "[flaml.automl.logger: 10-20 14:10:01] {2258} INFO - iteration 0, current learner lgbm\n",
      "[flaml.automl.logger: 10-20 14:10:01] {2393} INFO - Estimated sufficient time budget=2364s. Estimated necessary time budget=58s.\n",
      "[flaml.automl.logger: 10-20 14:10:01] {2442} INFO -  at 0.5s,\testimator lgbm's best error=0.1359,\tbest estimator lgbm's best error=0.1359\n",
      "[flaml.automl.logger: 10-20 14:10:01] {2258} INFO - iteration 1, current learner lgbm\n",
      "[flaml.automl.logger: 10-20 14:10:01] {2442} INFO -  at 0.7s,\testimator lgbm's best error=0.1359,\tbest estimator lgbm's best error=0.1359\n",
      "[flaml.automl.logger: 10-20 14:10:01] {2258} INFO - iteration 2, current learner lgbm\n",
      "[flaml.automl.logger: 10-20 14:10:01] {2442} INFO -  at 0.8s,\testimator lgbm's best error=0.1354,\tbest estimator lgbm's best error=0.1354\n",
      "[flaml.automl.logger: 10-20 14:10:01] {2258} INFO - iteration 3, current learner sgd\n",
      "[flaml.automl.logger: 10-20 14:10:02] {2442} INFO -  at 1.4s,\testimator sgd's best error=0.2457,\tbest estimator lgbm's best error=0.1354\n",
      "[flaml.automl.logger: 10-20 14:10:02] {2258} INFO - iteration 4, current learner lgbm\n",
      "[flaml.automl.logger: 10-20 14:10:02] {2442} INFO -  at 1.7s,\testimator lgbm's best error=0.1353,\tbest estimator lgbm's best error=0.1353\n",
      "[flaml.automl.logger: 10-20 14:10:02] {2258} INFO - iteration 5, current learner lgbm\n",
      "[flaml.automl.logger: 10-20 14:10:02] {2442} INFO -  at 1.9s,\testimator lgbm's best error=0.1353,\tbest estimator lgbm's best error=0.1353\n",
      "[flaml.automl.logger: 10-20 14:10:02] {2258} INFO - iteration 6, current learner lgbm\n",
      "[flaml.automl.logger: 10-20 14:10:02] {2442} INFO -  at 2.1s,\testimator lgbm's best error=0.1351,\tbest estimator lgbm's best error=0.1351\n",
      "[flaml.automl.logger: 10-20 14:10:02] {2258} INFO - iteration 7, current learner lgbm\n",
      "[flaml.automl.logger: 10-20 14:10:03] {2442} INFO -  at 2.3s,\testimator lgbm's best error=0.1351,\tbest estimator lgbm's best error=0.1351\n",
      "[flaml.automl.logger: 10-20 14:10:03] {2258} INFO - iteration 8, current learner lgbm\n",
      "[flaml.automl.logger: 10-20 14:10:03] {2442} INFO -  at 2.4s,\testimator lgbm's best error=0.1345,\tbest estimator lgbm's best error=0.1345\n",
      "[flaml.automl.logger: 10-20 14:10:03] {2258} INFO - iteration 9, current learner lgbm\n",
      "[flaml.automl.logger: 10-20 14:10:03] {2442} INFO -  at 2.6s,\testimator lgbm's best error=0.1345,\tbest estimator lgbm's best error=0.1345\n",
      "[flaml.automl.logger: 10-20 14:10:03] {2258} INFO - iteration 10, current learner lgbm\n",
      "[flaml.automl.logger: 10-20 14:10:03] {2442} INFO -  at 2.8s,\testimator lgbm's best error=0.1338,\tbest estimator lgbm's best error=0.1338\n",
      "[flaml.automl.logger: 10-20 14:10:03] {2258} INFO - iteration 11, current learner lgbm\n",
      "[flaml.automl.logger: 10-20 14:10:03] {2442} INFO -  at 3.0s,\testimator lgbm's best error=0.1338,\tbest estimator lgbm's best error=0.1338\n",
      "[flaml.automl.logger: 10-20 14:10:03] {2258} INFO - iteration 12, current learner lgbm\n",
      "[flaml.automl.logger: 10-20 14:10:03] {2442} INFO -  at 3.2s,\testimator lgbm's best error=0.1338,\tbest estimator lgbm's best error=0.1338\n",
      "[flaml.automl.logger: 10-20 14:10:03] {2258} INFO - iteration 13, current learner xgboost\n",
      "[flaml.automl.logger: 10-20 14:10:04] {2442} INFO -  at 3.4s,\testimator xgboost's best error=0.1360,\tbest estimator lgbm's best error=0.1338\n",
      "[flaml.automl.logger: 10-20 14:10:04] {2258} INFO - iteration 14, current learner xgboost\n",
      "[flaml.automl.logger: 10-20 14:10:04] {2442} INFO -  at 3.6s,\testimator xgboost's best error=0.1352,\tbest estimator lgbm's best error=0.1338\n",
      "[flaml.automl.logger: 10-20 14:10:04] {2258} INFO - iteration 15, current learner lgbm\n",
      "[flaml.automl.logger: 10-20 14:10:04] {2442} INFO -  at 3.8s,\testimator lgbm's best error=0.1338,\tbest estimator lgbm's best error=0.1338\n",
      "[flaml.automl.logger: 10-20 14:10:04] {2258} INFO - iteration 16, current learner extra_tree\n",
      "[flaml.automl.logger: 10-20 14:10:04] {2442} INFO -  at 3.9s,\testimator extra_tree's best error=0.1442,\tbest estimator lgbm's best error=0.1338\n",
      "[flaml.automl.logger: 10-20 14:10:04] {2258} INFO - iteration 17, current learner sgd\n",
      "[flaml.automl.logger: 10-20 14:10:07] {2442} INFO -  at 6.7s,\testimator sgd's best error=0.2457,\tbest estimator lgbm's best error=0.1338\n",
      "[flaml.automl.logger: 10-20 14:10:07] {2258} INFO - iteration 18, current learner lgbm\n",
      "[flaml.automl.logger: 10-20 14:10:07] {2442} INFO -  at 7.0s,\testimator lgbm's best error=0.1338,\tbest estimator lgbm's best error=0.1338\n",
      "[flaml.automl.logger: 10-20 14:10:07] {2258} INFO - iteration 19, current learner extra_tree\n",
      "[flaml.automl.logger: 10-20 14:10:07] {2442} INFO -  at 7.2s,\testimator extra_tree's best error=0.1344,\tbest estimator lgbm's best error=0.1338\n",
      "[flaml.automl.logger: 10-20 14:10:07] {2258} INFO - iteration 20, current learner extra_tree\n",
      "[flaml.automl.logger: 10-20 14:10:08] {2442} INFO -  at 7.4s,\testimator extra_tree's best error=0.1344,\tbest estimator lgbm's best error=0.1338\n",
      "[flaml.automl.logger: 10-20 14:10:08] {2258} INFO - iteration 21, current learner extra_tree\n",
      "[flaml.automl.logger: 10-20 14:10:08] {2442} INFO -  at 7.7s,\testimator extra_tree's best error=0.1344,\tbest estimator lgbm's best error=0.1338\n",
      "[flaml.automl.logger: 10-20 14:10:08] {2258} INFO - iteration 22, current learner rf\n",
      "[flaml.automl.logger: 10-20 14:10:08] {2442} INFO -  at 7.9s,\testimator rf's best error=0.1450,\tbest estimator lgbm's best error=0.1338\n",
      "[flaml.automl.logger: 10-20 14:10:08] {2258} INFO - iteration 23, current learner rf\n",
      "[flaml.automl.logger: 10-20 14:10:08] {2442} INFO -  at 8.1s,\testimator rf's best error=0.1346,\tbest estimator lgbm's best error=0.1338\n",
      "[flaml.automl.logger: 10-20 14:10:08] {2258} INFO - iteration 24, current learner rf\n",
      "[flaml.automl.logger: 10-20 14:10:09] {2442} INFO -  at 8.3s,\testimator rf's best error=0.1346,\tbest estimator lgbm's best error=0.1338\n",
      "[flaml.automl.logger: 10-20 14:10:09] {2258} INFO - iteration 25, current learner extra_tree\n",
      "[flaml.automl.logger: 10-20 14:10:09] {2442} INFO -  at 8.5s,\testimator extra_tree's best error=0.1344,\tbest estimator lgbm's best error=0.1338\n",
      "[flaml.automl.logger: 10-20 14:10:09] {2258} INFO - iteration 26, current learner sgd\n",
      "[flaml.automl.logger: 10-20 14:10:10] {2442} INFO -  at 9.3s,\testimator sgd's best error=0.2377,\tbest estimator lgbm's best error=0.1338\n",
      "[flaml.automl.logger: 10-20 14:10:10] {2258} INFO - iteration 27, current learner rf\n",
      "[flaml.automl.logger: 10-20 14:10:10] {2442} INFO -  at 9.7s,\testimator rf's best error=0.1346,\tbest estimator lgbm's best error=0.1338\n",
      "[flaml.automl.logger: 10-20 14:10:10] {2258} INFO - iteration 28, current learner xgboost\n",
      "[flaml.automl.logger: 10-20 14:10:10] {2442} INFO -  at 9.8s,\testimator xgboost's best error=0.1352,\tbest estimator lgbm's best error=0.1338\n",
      "[flaml.automl.logger: 10-20 14:10:10] {2258} INFO - iteration 29, current learner extra_tree\n",
      "[flaml.automl.logger: 10-20 14:10:10] {2442} INFO -  at 10.1s,\testimator extra_tree's best error=0.1344,\tbest estimator lgbm's best error=0.1338\n",
      "[flaml.automl.logger: 10-20 14:10:10] {2258} INFO - iteration 30, current learner extra_tree\n",
      "[flaml.automl.logger: 10-20 14:10:11] {2442} INFO -  at 10.4s,\testimator extra_tree's best error=0.1344,\tbest estimator lgbm's best error=0.1338\n",
      "[flaml.automl.logger: 10-20 14:10:11] {2258} INFO - iteration 31, current learner lgbm\n",
      "[flaml.automl.logger: 10-20 14:10:11] {2442} INFO -  at 10.5s,\testimator lgbm's best error=0.1338,\tbest estimator lgbm's best error=0.1338\n",
      "[flaml.automl.logger: 10-20 14:10:11] {2258} INFO - iteration 32, current learner lgbm\n",
      "[flaml.automl.logger: 10-20 14:10:11] {2442} INFO -  at 10.7s,\testimator lgbm's best error=0.1338,\tbest estimator lgbm's best error=0.1338\n",
      "[flaml.automl.logger: 10-20 14:10:11] {2258} INFO - iteration 33, current learner lgbm\n",
      "[flaml.automl.logger: 10-20 14:10:11] {2442} INFO -  at 10.9s,\testimator lgbm's best error=0.1338,\tbest estimator lgbm's best error=0.1338\n",
      "[flaml.automl.logger: 10-20 14:10:11] {2258} INFO - iteration 34, current learner extra_tree\n",
      "[flaml.automl.logger: 10-20 14:10:12] {2442} INFO -  at 11.3s,\testimator extra_tree's best error=0.1344,\tbest estimator lgbm's best error=0.1338\n",
      "[flaml.automl.logger: 10-20 14:10:12] {2258} INFO - iteration 35, current learner lgbm\n",
      "[flaml.automl.logger: 10-20 14:10:12] {2442} INFO -  at 11.5s,\testimator lgbm's best error=0.1338,\tbest estimator lgbm's best error=0.1338\n",
      "[flaml.automl.logger: 10-20 14:10:12] {2258} INFO - iteration 36, current learner rf\n",
      "[flaml.automl.logger: 10-20 14:10:12] {2442} INFO -  at 11.7s,\testimator rf's best error=0.1346,\tbest estimator lgbm's best error=0.1338\n",
      "[flaml.automl.logger: 10-20 14:10:12] {2258} INFO - iteration 37, current learner extra_tree\n",
      "[flaml.automl.logger: 10-20 14:10:12] {2442} INFO -  at 11.9s,\testimator extra_tree's best error=0.1344,\tbest estimator lgbm's best error=0.1338\n",
      "[flaml.automl.logger: 10-20 14:10:12] {2258} INFO - iteration 38, current learner xgboost\n",
      "[flaml.automl.logger: 10-20 14:10:12] {2442} INFO -  at 12.0s,\testimator xgboost's best error=0.1352,\tbest estimator lgbm's best error=0.1338\n",
      "[flaml.automl.logger: 10-20 14:10:12] {2258} INFO - iteration 39, current learner xgboost\n",
      "[flaml.automl.logger: 10-20 14:10:13] {2442} INFO -  at 12.2s,\testimator xgboost's best error=0.1352,\tbest estimator lgbm's best error=0.1338\n",
      "[flaml.automl.logger: 10-20 14:10:13] {2258} INFO - iteration 40, current learner lgbm\n",
      "[flaml.automl.logger: 10-20 14:10:13] {2442} INFO -  at 12.4s,\testimator lgbm's best error=0.1338,\tbest estimator lgbm's best error=0.1338\n",
      "[flaml.automl.logger: 10-20 14:10:13] {2258} INFO - iteration 41, current learner extra_tree\n",
      "[flaml.automl.logger: 10-20 14:10:13] {2442} INFO -  at 12.6s,\testimator extra_tree's best error=0.1344,\tbest estimator lgbm's best error=0.1338\n",
      "[flaml.automl.logger: 10-20 14:10:13] {2258} INFO - iteration 42, current learner extra_tree\n",
      "[flaml.automl.logger: 10-20 14:10:13] {2442} INFO -  at 12.8s,\testimator extra_tree's best error=0.1344,\tbest estimator lgbm's best error=0.1338\n",
      "[flaml.automl.logger: 10-20 14:10:13] {2258} INFO - iteration 43, current learner lgbm\n",
      "[flaml.automl.logger: 10-20 14:10:13] {2442} INFO -  at 13.0s,\testimator lgbm's best error=0.1338,\tbest estimator lgbm's best error=0.1338\n",
      "[flaml.automl.logger: 10-20 14:10:13] {2258} INFO - iteration 44, current learner extra_tree\n",
      "[flaml.automl.logger: 10-20 14:10:13] {2442} INFO -  at 13.2s,\testimator extra_tree's best error=0.1330,\tbest estimator extra_tree's best error=0.1330\n",
      "[flaml.automl.logger: 10-20 14:10:13] {2258} INFO - iteration 45, current learner sgd\n",
      "[flaml.automl.logger: 10-20 14:10:16] {2442} INFO -  at 16.0s,\testimator sgd's best error=0.2377,\tbest estimator extra_tree's best error=0.1330\n",
      "[flaml.automl.logger: 10-20 14:10:16] {2258} INFO - iteration 46, current learner extra_tree\n",
      "[flaml.automl.logger: 10-20 14:10:17] {2442} INFO -  at 16.4s,\testimator extra_tree's best error=0.1330,\tbest estimator extra_tree's best error=0.1330\n",
      "[flaml.automl.logger: 10-20 14:10:17] {2258} INFO - iteration 47, current learner xgboost\n",
      "[flaml.automl.logger: 10-20 14:10:17] {2442} INFO -  at 16.5s,\testimator xgboost's best error=0.1352,\tbest estimator extra_tree's best error=0.1330\n",
      "[flaml.automl.logger: 10-20 14:10:17] {2258} INFO - iteration 48, current learner extra_tree\n",
      "[flaml.automl.logger: 10-20 14:10:17] {2442} INFO -  at 16.7s,\testimator extra_tree's best error=0.1330,\tbest estimator extra_tree's best error=0.1330\n",
      "[flaml.automl.logger: 10-20 14:10:17] {2258} INFO - iteration 49, current learner lgbm\n",
      "[flaml.automl.logger: 10-20 14:10:17] {2442} INFO -  at 16.9s,\testimator lgbm's best error=0.1338,\tbest estimator extra_tree's best error=0.1330\n",
      "[flaml.automl.logger: 10-20 14:10:17] {2258} INFO - iteration 50, current learner xgboost\n",
      "[flaml.automl.logger: 10-20 14:10:17] {2442} INFO -  at 17.1s,\testimator xgboost's best error=0.1352,\tbest estimator extra_tree's best error=0.1330\n",
      "[flaml.automl.logger: 10-20 14:10:17] {2258} INFO - iteration 51, current learner extra_tree\n",
      "[flaml.automl.logger: 10-20 14:10:18] {2442} INFO -  at 17.5s,\testimator extra_tree's best error=0.1330,\tbest estimator extra_tree's best error=0.1330\n",
      "[flaml.automl.logger: 10-20 14:10:18] {2258} INFO - iteration 52, current learner xgboost\n",
      "[flaml.automl.logger: 10-20 14:10:18] {2442} INFO -  at 17.7s,\testimator xgboost's best error=0.1352,\tbest estimator extra_tree's best error=0.1330\n",
      "[flaml.automl.logger: 10-20 14:10:18] {2258} INFO - iteration 53, current learner xgboost\n",
      "[flaml.automl.logger: 10-20 14:10:18] {2442} INFO -  at 17.9s,\testimator xgboost's best error=0.1352,\tbest estimator extra_tree's best error=0.1330\n",
      "[flaml.automl.logger: 10-20 14:10:18] {2258} INFO - iteration 54, current learner lgbm\n",
      "[flaml.automl.logger: 10-20 14:10:18] {2442} INFO -  at 18.0s,\testimator lgbm's best error=0.1338,\tbest estimator extra_tree's best error=0.1330\n",
      "[flaml.automl.logger: 10-20 14:10:18] {2258} INFO - iteration 55, current learner lgbm\n",
      "[flaml.automl.logger: 10-20 14:10:18] {2442} INFO -  at 18.2s,\testimator lgbm's best error=0.1338,\tbest estimator extra_tree's best error=0.1330\n",
      "[flaml.automl.logger: 10-20 14:10:18] {2258} INFO - iteration 56, current learner extra_tree\n",
      "[flaml.automl.logger: 10-20 14:10:19] {2442} INFO -  at 18.4s,\testimator extra_tree's best error=0.1330,\tbest estimator extra_tree's best error=0.1330\n",
      "[flaml.automl.logger: 10-20 14:10:19] {2258} INFO - iteration 57, current learner rf\n",
      "[flaml.automl.logger: 10-20 14:10:19] {2442} INFO -  at 18.8s,\testimator rf's best error=0.1343,\tbest estimator extra_tree's best error=0.1330\n",
      "[flaml.automl.logger: 10-20 14:10:19] {2258} INFO - iteration 58, current learner rf\n",
      "[flaml.automl.logger: 10-20 14:10:19] {2442} INFO -  at 19.0s,\testimator rf's best error=0.1343,\tbest estimator extra_tree's best error=0.1330\n",
      "[flaml.automl.logger: 10-20 14:10:19] {2258} INFO - iteration 59, current learner xgboost\n",
      "[flaml.automl.logger: 10-20 14:10:19] {2442} INFO -  at 19.1s,\testimator xgboost's best error=0.1352,\tbest estimator extra_tree's best error=0.1330\n",
      "[flaml.automl.logger: 10-20 14:10:19] {2258} INFO - iteration 60, current learner lgbm\n",
      "[flaml.automl.logger: 10-20 14:10:20] {2442} INFO -  at 19.3s,\testimator lgbm's best error=0.1338,\tbest estimator extra_tree's best error=0.1330\n",
      "[flaml.automl.logger: 10-20 14:10:20] {2258} INFO - iteration 61, current learner extra_tree\n",
      "[flaml.automl.logger: 10-20 14:10:20] {2442} INFO -  at 19.5s,\testimator extra_tree's best error=0.1330,\tbest estimator extra_tree's best error=0.1330\n",
      "[flaml.automl.logger: 10-20 14:10:20] {2258} INFO - iteration 62, current learner lgbm\n",
      "[flaml.automl.logger: 10-20 14:10:20] {2442} INFO -  at 19.7s,\testimator lgbm's best error=0.1338,\tbest estimator extra_tree's best error=0.1330\n",
      "[flaml.automl.logger: 10-20 14:10:20] {2258} INFO - iteration 63, current learner extra_tree\n",
      "[flaml.automl.logger: 10-20 14:10:20] {2442} INFO -  at 19.9s,\testimator extra_tree's best error=0.1330,\tbest estimator extra_tree's best error=0.1330\n",
      "[flaml.automl.logger: 10-20 14:10:20] {2258} INFO - iteration 64, current learner extra_tree\n",
      "[flaml.automl.logger: 10-20 14:10:21] {2442} INFO -  at 20.2s,\testimator extra_tree's best error=0.1330,\tbest estimator extra_tree's best error=0.1330\n",
      "[flaml.automl.logger: 10-20 14:10:21] {2258} INFO - iteration 65, current learner lgbm\n",
      "[flaml.automl.logger: 10-20 14:10:21] {2442} INFO -  at 20.4s,\testimator lgbm's best error=0.1338,\tbest estimator extra_tree's best error=0.1330\n",
      "[flaml.automl.logger: 10-20 14:10:21] {2258} INFO - iteration 66, current learner xgboost\n",
      "[flaml.automl.logger: 10-20 14:10:21] {2442} INFO -  at 20.5s,\testimator xgboost's best error=0.1352,\tbest estimator extra_tree's best error=0.1330\n",
      "[flaml.automl.logger: 10-20 14:10:21] {2258} INFO - iteration 67, current learner extra_tree\n",
      "[flaml.automl.logger: 10-20 14:10:21] {2442} INFO -  at 20.7s,\testimator extra_tree's best error=0.1330,\tbest estimator extra_tree's best error=0.1330\n",
      "[flaml.automl.logger: 10-20 14:10:21] {2258} INFO - iteration 68, current learner xgboost\n",
      "[flaml.automl.logger: 10-20 14:10:21] {2442} INFO -  at 20.9s,\testimator xgboost's best error=0.1352,\tbest estimator extra_tree's best error=0.1330\n",
      "[flaml.automl.logger: 10-20 14:10:21] {2258} INFO - iteration 69, current learner lgbm\n",
      "[flaml.automl.logger: 10-20 14:10:21] {2442} INFO -  at 21.1s,\testimator lgbm's best error=0.1338,\tbest estimator extra_tree's best error=0.1330\n",
      "[flaml.automl.logger: 10-20 14:10:21] {2258} INFO - iteration 70, current learner extra_tree\n",
      "[flaml.automl.logger: 10-20 14:10:22] {2442} INFO -  at 21.3s,\testimator extra_tree's best error=0.1330,\tbest estimator extra_tree's best error=0.1330\n",
      "[flaml.automl.logger: 10-20 14:10:22] {2258} INFO - iteration 71, current learner extra_tree\n",
      "[flaml.automl.logger: 10-20 14:10:22] {2442} INFO -  at 21.5s,\testimator extra_tree's best error=0.1330,\tbest estimator extra_tree's best error=0.1330\n",
      "[flaml.automl.logger: 10-20 14:10:22] {2258} INFO - iteration 72, current learner extra_tree\n",
      "[flaml.automl.logger: 10-20 14:10:22] {2442} INFO -  at 21.7s,\testimator extra_tree's best error=0.1330,\tbest estimator extra_tree's best error=0.1330\n",
      "[flaml.automl.logger: 10-20 14:10:22] {2258} INFO - iteration 73, current learner extra_tree\n",
      "[flaml.automl.logger: 10-20 14:10:22] {2442} INFO -  at 22.0s,\testimator extra_tree's best error=0.1330,\tbest estimator extra_tree's best error=0.1330\n",
      "[flaml.automl.logger: 10-20 14:10:22] {2258} INFO - iteration 74, current learner extra_tree\n",
      "[flaml.automl.logger: 10-20 14:10:23] {2442} INFO -  at 22.2s,\testimator extra_tree's best error=0.1330,\tbest estimator extra_tree's best error=0.1330\n",
      "[flaml.automl.logger: 10-20 14:10:23] {2258} INFO - iteration 75, current learner extra_tree\n",
      "[flaml.automl.logger: 10-20 14:10:23] {2442} INFO -  at 22.5s,\testimator extra_tree's best error=0.1330,\tbest estimator extra_tree's best error=0.1330\n",
      "[flaml.automl.logger: 10-20 14:10:23] {2258} INFO - iteration 76, current learner lgbm\n",
      "[flaml.automl.logger: 10-20 14:10:23] {2442} INFO -  at 22.7s,\testimator lgbm's best error=0.1338,\tbest estimator extra_tree's best error=0.1330\n",
      "[flaml.automl.logger: 10-20 14:10:23] {2258} INFO - iteration 77, current learner lgbm\n",
      "[flaml.automl.logger: 10-20 14:10:23] {2442} INFO -  at 22.8s,\testimator lgbm's best error=0.1338,\tbest estimator extra_tree's best error=0.1330\n",
      "[flaml.automl.logger: 10-20 14:10:23] {2258} INFO - iteration 78, current learner extra_tree\n",
      "[flaml.automl.logger: 10-20 14:10:23] {2442} INFO -  at 23.0s,\testimator extra_tree's best error=0.1330,\tbest estimator extra_tree's best error=0.1330\n",
      "[flaml.automl.logger: 10-20 14:10:23] {2258} INFO - iteration 79, current learner catboost\n",
      "[flaml.automl.logger: 10-20 14:10:25] {2442} INFO -  at 24.6s,\testimator catboost's best error=0.1351,\tbest estimator extra_tree's best error=0.1330\n",
      "[flaml.automl.logger: 10-20 14:10:25] {2258} INFO - iteration 80, current learner extra_tree\n",
      "[flaml.automl.logger: 10-20 14:10:25] {2442} INFO -  at 24.9s,\testimator extra_tree's best error=0.1330,\tbest estimator extra_tree's best error=0.1330\n",
      "[flaml.automl.logger: 10-20 14:10:25] {2258} INFO - iteration 81, current learner rf\n",
      "[flaml.automl.logger: 10-20 14:10:26] {2442} INFO -  at 25.7s,\testimator rf's best error=0.1343,\tbest estimator extra_tree's best error=0.1330\n",
      "[flaml.automl.logger: 10-20 14:10:26] {2258} INFO - iteration 82, current learner catboost\n",
      "[flaml.automl.logger: 10-20 14:10:28] {2442} INFO -  at 27.4s,\testimator catboost's best error=0.1351,\tbest estimator extra_tree's best error=0.1330\n",
      "[flaml.automl.logger: 10-20 14:10:28] {2258} INFO - iteration 83, current learner extra_tree\n",
      "[flaml.automl.logger: 10-20 14:10:28] {2442} INFO -  at 27.6s,\testimator extra_tree's best error=0.1330,\tbest estimator extra_tree's best error=0.1330\n",
      "[flaml.automl.logger: 10-20 14:10:28] {2258} INFO - iteration 84, current learner catboost\n",
      "[flaml.automl.logger: 10-20 14:10:29] {2442} INFO -  at 28.9s,\testimator catboost's best error=0.1351,\tbest estimator extra_tree's best error=0.1330\n",
      "[flaml.automl.logger: 10-20 14:10:29] {2258} INFO - iteration 85, current learner catboost\n",
      "[flaml.automl.logger: 10-20 14:10:32] {2442} INFO -  at 31.5s,\testimator catboost's best error=0.1351,\tbest estimator extra_tree's best error=0.1330\n",
      "[flaml.automl.logger: 10-20 14:10:32] {2258} INFO - iteration 86, current learner catboost\n",
      "[flaml.automl.logger: 10-20 14:10:34] {2442} INFO -  at 33.2s,\testimator catboost's best error=0.1351,\tbest estimator extra_tree's best error=0.1330\n",
      "[flaml.automl.logger: 10-20 14:10:34] {2258} INFO - iteration 87, current learner extra_tree\n",
      "[flaml.automl.logger: 10-20 14:10:34] {2442} INFO -  at 33.4s,\testimator extra_tree's best error=0.1330,\tbest estimator extra_tree's best error=0.1330\n",
      "[flaml.automl.logger: 10-20 14:10:34] {2258} INFO - iteration 88, current learner extra_tree\n",
      "[flaml.automl.logger: 10-20 14:10:34] {2442} INFO -  at 33.6s,\testimator extra_tree's best error=0.1330,\tbest estimator extra_tree's best error=0.1330\n",
      "[flaml.automl.logger: 10-20 14:10:34] {2258} INFO - iteration 89, current learner xgboost\n",
      "[flaml.automl.logger: 10-20 14:10:34] {2442} INFO -  at 33.8s,\testimator xgboost's best error=0.1352,\tbest estimator extra_tree's best error=0.1330\n",
      "[flaml.automl.logger: 10-20 14:10:34] {2258} INFO - iteration 90, current learner rf\n",
      "[flaml.automl.logger: 10-20 14:10:34] {2442} INFO -  at 34.0s,\testimator rf's best error=0.1343,\tbest estimator extra_tree's best error=0.1330\n",
      "[flaml.automl.logger: 10-20 14:10:34] {2258} INFO - iteration 91, current learner catboost\n",
      "[flaml.automl.logger: 10-20 14:11:03] {2442} INFO -  at 62.8s,\testimator catboost's best error=0.1351,\tbest estimator extra_tree's best error=0.1330\n",
      "[flaml.automl.logger: 10-20 14:11:03] {2258} INFO - iteration 92, current learner xgboost\n",
      "[flaml.automl.logger: 10-20 14:11:03] {2442} INFO -  at 63.0s,\testimator xgboost's best error=0.1352,\tbest estimator extra_tree's best error=0.1330\n",
      "[flaml.automl.logger: 10-20 14:11:03] {2258} INFO - iteration 93, current learner catboost\n",
      "[flaml.automl.logger: 10-20 14:11:42] {2442} INFO -  at 102.1s,\testimator catboost's best error=0.1351,\tbest estimator extra_tree's best error=0.1330\n",
      "[flaml.automl.logger: 10-20 14:11:42] {2258} INFO - iteration 94, current learner extra_tree\n",
      "[flaml.automl.logger: 10-20 14:11:43] {2442} INFO -  at 102.3s,\testimator extra_tree's best error=0.1330,\tbest estimator extra_tree's best error=0.1330\n",
      "[flaml.automl.logger: 10-20 14:11:43] {2258} INFO - iteration 95, current learner extra_tree\n",
      "[flaml.automl.logger: 10-20 14:11:43] {2442} INFO -  at 102.5s,\testimator extra_tree's best error=0.1330,\tbest estimator extra_tree's best error=0.1330\n",
      "[flaml.automl.logger: 10-20 14:11:43] {2258} INFO - iteration 96, current learner lgbm\n",
      "[flaml.automl.logger: 10-20 14:11:43] {2442} INFO -  at 102.7s,\testimator lgbm's best error=0.1338,\tbest estimator extra_tree's best error=0.1330\n",
      "[flaml.automl.logger: 10-20 14:11:43] {2258} INFO - iteration 97, current learner extra_tree\n",
      "[flaml.automl.logger: 10-20 14:11:43] {2442} INFO -  at 102.9s,\testimator extra_tree's best error=0.1330,\tbest estimator extra_tree's best error=0.1330\n",
      "[flaml.automl.logger: 10-20 14:11:43] {2258} INFO - iteration 98, current learner xgboost\n",
      "[flaml.automl.logger: 10-20 14:11:43] {2442} INFO -  at 103.1s,\testimator xgboost's best error=0.1341,\tbest estimator extra_tree's best error=0.1330\n",
      "[flaml.automl.logger: 10-20 14:11:43] {2258} INFO - iteration 99, current learner xgboost\n",
      "[flaml.automl.logger: 10-20 14:11:44] {2442} INFO -  at 103.3s,\testimator xgboost's best error=0.1341,\tbest estimator extra_tree's best error=0.1330\n",
      "[flaml.automl.logger: 10-20 14:11:44] {2258} INFO - iteration 100, current learner xgboost\n",
      "[flaml.automl.logger: 10-20 14:11:44] {2442} INFO -  at 103.7s,\testimator xgboost's best error=0.1341,\tbest estimator extra_tree's best error=0.1330\n",
      "[flaml.automl.logger: 10-20 14:11:44] {2258} INFO - iteration 101, current learner rf\n",
      "[flaml.automl.logger: 10-20 14:11:44] {2442} INFO -  at 104.1s,\testimator rf's best error=0.1343,\tbest estimator extra_tree's best error=0.1330\n",
      "[flaml.automl.logger: 10-20 14:11:44] {2258} INFO - iteration 102, current learner extra_tree\n",
      "[flaml.automl.logger: 10-20 14:11:45] {2442} INFO -  at 104.3s,\testimator extra_tree's best error=0.1330,\tbest estimator extra_tree's best error=0.1330\n",
      "[flaml.automl.logger: 10-20 14:11:45] {2258} INFO - iteration 103, current learner xgboost\n",
      "[flaml.automl.logger: 10-20 14:11:45] {2442} INFO -  at 104.5s,\testimator xgboost's best error=0.1341,\tbest estimator extra_tree's best error=0.1330\n",
      "[flaml.automl.logger: 10-20 14:11:45] {2258} INFO - iteration 104, current learner lgbm\n",
      "[flaml.automl.logger: 10-20 14:11:45] {2442} INFO -  at 104.7s,\testimator lgbm's best error=0.1338,\tbest estimator extra_tree's best error=0.1330\n",
      "[flaml.automl.logger: 10-20 14:11:45] {2258} INFO - iteration 105, current learner extra_tree\n",
      "[flaml.automl.logger: 10-20 14:11:45] {2442} INFO -  at 105.0s,\testimator extra_tree's best error=0.1330,\tbest estimator extra_tree's best error=0.1330\n",
      "[flaml.automl.logger: 10-20 14:11:45] {2258} INFO - iteration 106, current learner xgboost\n",
      "[flaml.automl.logger: 10-20 14:11:46] {2442} INFO -  at 105.3s,\testimator xgboost's best error=0.1341,\tbest estimator extra_tree's best error=0.1330\n",
      "[flaml.automl.logger: 10-20 14:11:46] {2258} INFO - iteration 107, current learner xgboost\n",
      "[flaml.automl.logger: 10-20 14:11:46] {2442} INFO -  at 105.4s,\testimator xgboost's best error=0.1341,\tbest estimator extra_tree's best error=0.1330\n",
      "[flaml.automl.logger: 10-20 14:11:46] {2258} INFO - iteration 108, current learner extra_tree\n",
      "[flaml.automl.logger: 10-20 14:11:46] {2442} INFO -  at 105.6s,\testimator extra_tree's best error=0.1330,\tbest estimator extra_tree's best error=0.1330\n",
      "[flaml.automl.logger: 10-20 14:11:46] {2258} INFO - iteration 109, current learner xgboost\n",
      "[flaml.automl.logger: 10-20 14:11:46] {2442} INFO -  at 105.9s,\testimator xgboost's best error=0.1341,\tbest estimator extra_tree's best error=0.1330\n",
      "[flaml.automl.logger: 10-20 14:11:46] {2258} INFO - iteration 110, current learner extra_tree\n",
      "[flaml.automl.logger: 10-20 14:11:46] {2442} INFO -  at 106.1s,\testimator extra_tree's best error=0.1327,\tbest estimator extra_tree's best error=0.1327\n",
      "[flaml.automl.logger: 10-20 14:11:46] {2258} INFO - iteration 111, current learner extra_tree\n",
      "[flaml.automl.logger: 10-20 14:11:47] {2442} INFO -  at 106.4s,\testimator extra_tree's best error=0.1327,\tbest estimator extra_tree's best error=0.1327\n",
      "[flaml.automl.logger: 10-20 14:11:47] {2258} INFO - iteration 112, current learner lgbm\n",
      "[flaml.automl.logger: 10-20 14:11:47] {2442} INFO -  at 106.6s,\testimator lgbm's best error=0.1338,\tbest estimator extra_tree's best error=0.1327\n",
      "[flaml.automl.logger: 10-20 14:11:47] {2258} INFO - iteration 113, current learner extra_tree\n",
      "[flaml.automl.logger: 10-20 14:11:47] {2442} INFO -  at 106.8s,\testimator extra_tree's best error=0.1327,\tbest estimator extra_tree's best error=0.1327\n",
      "[flaml.automl.logger: 10-20 14:11:47] {2258} INFO - iteration 114, current learner extra_tree\n",
      "[flaml.automl.logger: 10-20 14:11:47] {2442} INFO -  at 107.0s,\testimator extra_tree's best error=0.1327,\tbest estimator extra_tree's best error=0.1327\n",
      "[flaml.automl.logger: 10-20 14:11:47] {2258} INFO - iteration 115, current learner catboost\n",
      "[flaml.automl.logger: 10-20 14:12:00] {2442} INFO -  at 119.9s,\testimator catboost's best error=0.1351,\tbest estimator extra_tree's best error=0.1327\n",
      "[flaml.automl.logger: 10-20 14:12:00] {2258} INFO - iteration 116, current learner xgb_limitdepth\n",
      "[flaml.automl.logger: 10-20 14:12:00] {2442} INFO -  at 120.0s,\testimator xgb_limitdepth's best error=0.1369,\tbest estimator extra_tree's best error=0.1327\n",
      "[flaml.automl.logger: 10-20 14:12:00] {2685} INFO - retrain extra_tree for 0.0s\n",
      "[flaml.automl.logger: 10-20 14:12:00] {2688} INFO - retrained model: ExtraTreesClassifier(criterion='entropy', max_features=0.41809402037674204,\n",
      "                     max_leaf_nodes=9, n_estimators=4, n_jobs=-1,\n",
      "                     random_state=12032022)\n",
      "[flaml.automl.logger: 10-20 14:12:00] {1985} INFO - fit succeeded\n",
      "[flaml.automl.logger: 10-20 14:12:00] {1986} INFO - Time taken to find the best model: 106.14058828353882\n"
     ]
    }
   ],
   "source": [
    "automl = AutoML()\n",
    "\n",
    "automl.fit(X_train, y_train, time_budget=120)  \n",
    "\n",
    "\n"
   ]
  },
  {
   "cell_type": "code",
   "execution_count": 11,
   "id": "f68cbf29",
   "metadata": {
    "execution": {
     "iopub.execute_input": "2024-10-20T14:12:00.961583Z",
     "iopub.status.busy": "2024-10-20T14:12:00.960813Z",
     "iopub.status.idle": "2024-10-20T14:12:00.969183Z",
     "shell.execute_reply": "2024-10-20T14:12:00.967701Z"
    },
    "papermill": {
     "duration": 0.062316,
     "end_time": "2024-10-20T14:12:00.971898",
     "exception": false,
     "start_time": "2024-10-20T14:12:00.909582",
     "status": "completed"
    },
    "tags": []
   },
   "outputs": [
    {
     "name": "stdout",
     "output_type": "stream",
     "text": [
      "Best Model: extra_tree\n",
      "Best Loss on validation set: 0.13272721636896895\n"
     ]
    }
   ],
   "source": [
    "print(\"Best Model:\", automl.best_estimator)\n",
    "print(\"Best Loss on validation set:\", automl.best_loss)"
   ]
  },
  {
   "cell_type": "code",
   "execution_count": 12,
   "id": "15e95c9d",
   "metadata": {
    "execution": {
     "iopub.execute_input": "2024-10-20T14:12:01.044147Z",
     "iopub.status.busy": "2024-10-20T14:12:01.043568Z",
     "iopub.status.idle": "2024-10-20T14:12:01.074327Z",
     "shell.execute_reply": "2024-10-20T14:12:01.072746Z"
    },
    "papermill": {
     "duration": 0.0697,
     "end_time": "2024-10-20T14:12:01.077085",
     "exception": false,
     "start_time": "2024-10-20T14:12:01.007385",
     "status": "completed"
    },
    "tags": []
   },
   "outputs": [
    {
     "name": "stdout",
     "output_type": "stream",
     "text": [
      "Test accuracy: 0.822\n"
     ]
    }
   ],
   "source": [
    "test_accuracy = automl.score(X_test, y_test)\n",
    "print(\"Test accuracy:\", test_accuracy)"
   ]
  },
  {
   "cell_type": "code",
   "execution_count": 13,
   "id": "5ccdc900",
   "metadata": {
    "execution": {
     "iopub.execute_input": "2024-10-20T14:12:01.145288Z",
     "iopub.status.busy": "2024-10-20T14:12:01.144741Z",
     "iopub.status.idle": "2024-10-20T14:12:01.150964Z",
     "shell.execute_reply": "2024-10-20T14:12:01.149659Z"
    },
    "papermill": {
     "duration": 0.043045,
     "end_time": "2024-10-20T14:12:01.153525",
     "exception": false,
     "start_time": "2024-10-20T14:12:01.110480",
     "status": "completed"
    },
    "tags": []
   },
   "outputs": [],
   "source": [
    "model=automl\n",
    "filename = 'encryption_QPC_14.pkl'\n"
   ]
  },
  {
   "cell_type": "code",
   "execution_count": 14,
   "id": "1dba6d77",
   "metadata": {
    "execution": {
     "iopub.execute_input": "2024-10-20T14:12:01.221432Z",
     "iopub.status.busy": "2024-10-20T14:12:01.220891Z",
     "iopub.status.idle": "2024-10-20T14:12:01.242977Z",
     "shell.execute_reply": "2024-10-20T14:12:01.241480Z"
    },
    "papermill": {
     "duration": 0.060463,
     "end_time": "2024-10-20T14:12:01.245906",
     "exception": false,
     "start_time": "2024-10-20T14:12:01.185443",
     "status": "completed"
    },
    "tags": []
   },
   "outputs": [],
   "source": [
    "with open(filename, 'wb') as file:\n",
    "    pickle.dump(model, file)\n"
   ]
  },
  {
   "cell_type": "code",
   "execution_count": 15,
   "id": "903b08e6",
   "metadata": {
    "execution": {
     "iopub.execute_input": "2024-10-20T14:12:01.314930Z",
     "iopub.status.busy": "2024-10-20T14:12:01.314394Z",
     "iopub.status.idle": "2024-10-20T14:12:01.336354Z",
     "shell.execute_reply": "2024-10-20T14:12:01.335065Z"
    },
    "papermill": {
     "duration": 0.060424,
     "end_time": "2024-10-20T14:12:01.339517",
     "exception": false,
     "start_time": "2024-10-20T14:12:01.279093",
     "status": "completed"
    },
    "tags": []
   },
   "outputs": [],
   "source": [
    "with open(filename, 'rb') as file:\n",
    "    loaded_model = pickle.load(file)"
   ]
  },
  {
   "cell_type": "code",
   "execution_count": 16,
   "id": "51252938",
   "metadata": {
    "execution": {
     "iopub.execute_input": "2024-10-20T14:12:01.407445Z",
     "iopub.status.busy": "2024-10-20T14:12:01.407002Z",
     "iopub.status.idle": "2024-10-20T14:12:01.432136Z",
     "shell.execute_reply": "2024-10-20T14:12:01.430879Z"
    },
    "papermill": {
     "duration": 0.062938,
     "end_time": "2024-10-20T14:12:01.435164",
     "exception": false,
     "start_time": "2024-10-20T14:12:01.372226",
     "status": "completed"
    },
    "tags": []
   },
   "outputs": [],
   "source": [
    "\n",
    "test_accuracy = loaded_model.score(X_test, y_test)\n"
   ]
  },
  {
   "cell_type": "code",
   "execution_count": 17,
   "id": "23449846",
   "metadata": {
    "execution": {
     "iopub.execute_input": "2024-10-20T14:12:01.506343Z",
     "iopub.status.busy": "2024-10-20T14:12:01.505911Z",
     "iopub.status.idle": "2024-10-20T14:12:01.513507Z",
     "shell.execute_reply": "2024-10-20T14:12:01.512416Z"
    },
    "papermill": {
     "duration": 0.045789,
     "end_time": "2024-10-20T14:12:01.515825",
     "exception": false,
     "start_time": "2024-10-20T14:12:01.470036",
     "status": "completed"
    },
    "tags": []
   },
   "outputs": [
    {
     "data": {
      "text/plain": [
       "0.822"
      ]
     },
     "execution_count": 17,
     "metadata": {},
     "output_type": "execute_result"
    }
   ],
   "source": [
    "test_accuracy"
   ]
  },
  {
   "cell_type": "code",
   "execution_count": 18,
   "id": "6ae32e0c",
   "metadata": {
    "execution": {
     "iopub.execute_input": "2024-10-20T14:12:01.583317Z",
     "iopub.status.busy": "2024-10-20T14:12:01.582860Z",
     "iopub.status.idle": "2024-10-20T14:12:01.605000Z",
     "shell.execute_reply": "2024-10-20T14:12:01.603737Z"
    },
    "papermill": {
     "duration": 0.05972,
     "end_time": "2024-10-20T14:12:01.608089",
     "exception": false,
     "start_time": "2024-10-20T14:12:01.548369",
     "status": "completed"
    },
    "tags": []
   },
   "outputs": [
    {
     "name": "stderr",
     "output_type": "stream",
     "text": [
      "/tmp/ipykernel_17/2150996034.py:5: SettingWithCopyWarning: \n",
      "A value is trying to be set on a copy of a slice from a DataFrame.\n",
      "Try using .loc[row_indexer,col_indexer] = value instead\n",
      "\n",
      "See the caveats in the documentation: https://pandas.pydata.org/pandas-docs/stable/user_guide/indexing.html#returning-a-view-versus-a-copy\n",
      "  X['Algorithm'] = le_algorithm.fit_transform(X['Algorithm'])\n",
      "/tmp/ipykernel_17/2150996034.py:6: SettingWithCopyWarning: \n",
      "A value is trying to be set on a copy of a slice from a DataFrame.\n",
      "Try using .loc[row_indexer,col_indexer] = value instead\n",
      "\n",
      "See the caveats in the documentation: https://pandas.pydata.org/pandas-docs/stable/user_guide/indexing.html#returning-a-view-versus-a-copy\n",
      "  X['Attack Type'] = le_attack_type.fit_transform(X['Attack Type'])\n"
     ]
    }
   ],
   "source": [
    "le_algorithm = LabelEncoder()\n",
    "le_attack_type = LabelEncoder()\n",
    "\n",
    "# Apply label encoding to 'Algorithm' and 'Attack Type'\n",
    "X['Algorithm'] = le_algorithm.fit_transform(X['Algorithm'])\n",
    "X['Attack Type'] = le_attack_type.fit_transform(X['Attack Type'])"
   ]
  },
  {
   "cell_type": "code",
   "execution_count": 19,
   "id": "ff72e396",
   "metadata": {
    "execution": {
     "iopub.execute_input": "2024-10-20T14:12:01.680512Z",
     "iopub.status.busy": "2024-10-20T14:12:01.680038Z",
     "iopub.status.idle": "2024-10-20T14:12:01.871021Z",
     "shell.execute_reply": "2024-10-20T14:12:01.869745Z"
    },
    "papermill": {
     "duration": 0.22944,
     "end_time": "2024-10-20T14:12:01.874242",
     "exception": false,
     "start_time": "2024-10-20T14:12:01.644802",
     "status": "completed"
    },
    "tags": []
   },
   "outputs": [],
   "source": [
    "# Split data into training and testing sets\n",
    "X_train, X_test, y_train, y_test = train_test_split(X, y, test_size=0.2, random_state=42)\n",
    "\n",
    "# Create an XGBoost model\n",
    "model = xgb.XGBClassifier(use_label_encoder=False, eval_metric='logloss')\n",
    "\n",
    "# Train the model\n",
    "model.fit(X_train, y_train)\n",
    "\n",
    "# Make predictions\n",
    "y_pred = model.predict(X_test)"
   ]
  },
  {
   "cell_type": "code",
   "execution_count": 20,
   "id": "3accd471",
   "metadata": {
    "execution": {
     "iopub.execute_input": "2024-10-20T14:12:01.945127Z",
     "iopub.status.busy": "2024-10-20T14:12:01.944700Z",
     "iopub.status.idle": "2024-10-20T14:12:01.955215Z",
     "shell.execute_reply": "2024-10-20T14:12:01.953625Z"
    },
    "papermill": {
     "duration": 0.048536,
     "end_time": "2024-10-20T14:12:01.958128",
     "exception": false,
     "start_time": "2024-10-20T14:12:01.909592",
     "status": "completed"
    },
    "tags": []
   },
   "outputs": [
    {
     "name": "stdout",
     "output_type": "stream",
     "text": [
      "Accuracy: 0.82\n"
     ]
    }
   ],
   "source": [
    "accuracy = accuracy_score(y_test, y_pred)\n",
    "print(f\"Accuracy: {accuracy:.2f}\")"
   ]
  },
  {
   "cell_type": "code",
   "execution_count": 21,
   "id": "97de1654",
   "metadata": {
    "execution": {
     "iopub.execute_input": "2024-10-20T14:12:02.030288Z",
     "iopub.status.busy": "2024-10-20T14:12:02.029530Z",
     "iopub.status.idle": "2024-10-20T14:12:02.035771Z",
     "shell.execute_reply": "2024-10-20T14:12:02.034441Z"
    },
    "papermill": {
     "duration": 0.046686,
     "end_time": "2024-10-20T14:12:02.038769",
     "exception": false,
     "start_time": "2024-10-20T14:12:01.992083",
     "status": "completed"
    },
    "tags": []
   },
   "outputs": [],
   "source": [
    "filename = 'encryption_QPC_15_XG.pkl'\n"
   ]
  },
  {
   "cell_type": "code",
   "execution_count": 22,
   "id": "b66febf5",
   "metadata": {
    "execution": {
     "iopub.execute_input": "2024-10-20T14:12:02.107892Z",
     "iopub.status.busy": "2024-10-20T14:12:02.106814Z",
     "iopub.status.idle": "2024-10-20T14:12:02.117377Z",
     "shell.execute_reply": "2024-10-20T14:12:02.115407Z"
    },
    "papermill": {
     "duration": 0.048409,
     "end_time": "2024-10-20T14:12:02.120540",
     "exception": false,
     "start_time": "2024-10-20T14:12:02.072131",
     "status": "completed"
    },
    "tags": []
   },
   "outputs": [],
   "source": [
    "with open(filename, 'wb') as file:\n",
    "    pickle.dump(model, file)\n"
   ]
  },
  {
   "cell_type": "code",
   "execution_count": null,
   "id": "6b5504fd",
   "metadata": {
    "papermill": {
     "duration": 0.034227,
     "end_time": "2024-10-20T14:12:02.190067",
     "exception": false,
     "start_time": "2024-10-20T14:12:02.155840",
     "status": "completed"
    },
    "tags": []
   },
   "outputs": [],
   "source": []
  }
 ],
 "metadata": {
  "kaggle": {
   "accelerator": "none",
   "dataSources": [
    {
     "datasetId": 5909618,
     "sourceId": 9670618,
     "sourceType": "datasetVersion"
    },
    {
     "datasetId": 5910132,
     "sourceId": 9671400,
     "sourceType": "datasetVersion"
    }
   ],
   "dockerImageVersionId": 30786,
   "isGpuEnabled": false,
   "isInternetEnabled": true,
   "language": "python",
   "sourceType": "notebook"
  },
  "kernelspec": {
   "display_name": "Python 3",
   "language": "python",
   "name": "python3"
  },
  "language_info": {
   "codemirror_mode": {
    "name": "ipython",
    "version": 3
   },
   "file_extension": ".py",
   "mimetype": "text/x-python",
   "name": "python",
   "nbconvert_exporter": "python",
   "pygments_lexer": "ipython3",
   "version": "3.10.14"
  },
  "papermill": {
   "default_parameters": {},
   "duration": 161.983762,
   "end_time": "2024-10-20T14:12:05.647496",
   "environment_variables": {},
   "exception": null,
   "input_path": "__notebook__.ipynb",
   "output_path": "__notebook__.ipynb",
   "parameters": {},
   "start_time": "2024-10-20T14:09:23.663734",
   "version": "2.6.0"
  }
 },
 "nbformat": 4,
 "nbformat_minor": 5
}
