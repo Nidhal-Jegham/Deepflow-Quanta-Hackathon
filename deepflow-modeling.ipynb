{
 "cells": [
  {
   "cell_type": "code",
   "execution_count": 1,
   "id": "c6b4ffc2",
   "metadata": {
    "_cell_guid": "b1076dfc-b9ad-4769-8c92-a6c4dae69d19",
    "_uuid": "8f2839f25d086af736a60e9eeb907d3b93b6e0e5",
    "execution": {
     "iopub.execute_input": "2024-10-20T00:40:20.255108Z",
     "iopub.status.busy": "2024-10-20T00:40:20.254550Z",
     "iopub.status.idle": "2024-10-20T00:40:37.974514Z",
     "shell.execute_reply": "2024-10-20T00:40:37.972708Z"
    },
    "papermill": {
     "duration": 17.733647,
     "end_time": "2024-10-20T00:40:37.977930",
     "exception": false,
     "start_time": "2024-10-20T00:40:20.244283",
     "status": "completed"
    },
    "tags": []
   },
   "outputs": [
    {
     "name": "stdout",
     "output_type": "stream",
     "text": [
      "Collecting flaml\r\n",
      "  Downloading FLAML-2.3.1-py3-none-any.whl.metadata (16 kB)\r\n",
      "Requirement already satisfied: NumPy>=1.17 in /opt/conda/lib/python3.10/site-packages (from flaml) (1.26.4)\r\n",
      "Downloading FLAML-2.3.1-py3-none-any.whl (313 kB)\r\n",
      "\u001b[2K   \u001b[90m━━━━━━━━━━━━━━━━━━━━━━━━━━━━━━━━━━━━━━━━\u001b[0m \u001b[32m313.3/313.3 kB\u001b[0m \u001b[31m6.3 MB/s\u001b[0m eta \u001b[36m0:00:00\u001b[0m\r\n",
      "\u001b[?25hInstalling collected packages: flaml\r\n",
      "Successfully installed flaml-2.3.1\r\n",
      "Note: you may need to restart the kernel to use updated packages.\n"
     ]
    }
   ],
   "source": [
    "pip install flaml"
   ]
  },
  {
   "cell_type": "code",
   "execution_count": 2,
   "id": "e490e9dc",
   "metadata": {
    "execution": {
     "iopub.execute_input": "2024-10-20T00:40:37.998033Z",
     "iopub.status.busy": "2024-10-20T00:40:37.997526Z",
     "iopub.status.idle": "2024-10-20T00:40:54.318419Z",
     "shell.execute_reply": "2024-10-20T00:40:54.317142Z"
    },
    "papermill": {
     "duration": 16.334183,
     "end_time": "2024-10-20T00:40:54.321598",
     "exception": false,
     "start_time": "2024-10-20T00:40:37.987415",
     "status": "completed"
    },
    "tags": []
   },
   "outputs": [
    {
     "name": "stderr",
     "output_type": "stream",
     "text": [
      "2024-10-20 00:40:39,207\tINFO util.py:124 -- Outdated packages:\n",
      "  ipywidgets==7.7.1 found, needs ipywidgets>=8\n",
      "Run `pip install -U ipywidgets`, then restart the notebook server for rich notebook output.\n",
      "2024-10-20 00:40:40,976\tINFO util.py:124 -- Outdated packages:\n",
      "  ipywidgets==7.7.1 found, needs ipywidgets>=8\n",
      "Run `pip install -U ipywidgets`, then restart the notebook server for rich notebook output.\n"
     ]
    }
   ],
   "source": [
    "from flaml import autogen\n",
    "from flaml import AutoML\n",
    "import matplotlib.pyplot as plt\n",
    "import pickle\n",
    "from sklearn.model_selection import train_test_split\n"
   ]
  },
  {
   "cell_type": "code",
   "execution_count": 3,
   "id": "d8e1f171",
   "metadata": {
    "execution": {
     "iopub.execute_input": "2024-10-20T00:40:54.341332Z",
     "iopub.status.busy": "2024-10-20T00:40:54.340208Z",
     "iopub.status.idle": "2024-10-20T00:40:54.346814Z",
     "shell.execute_reply": "2024-10-20T00:40:54.345613Z"
    },
    "papermill": {
     "duration": 0.019035,
     "end_time": "2024-10-20T00:40:54.349488",
     "exception": false,
     "start_time": "2024-10-20T00:40:54.330453",
     "status": "completed"
    },
    "tags": []
   },
   "outputs": [],
   "source": [
    "import pandas as pd"
   ]
  },
  {
   "cell_type": "code",
   "execution_count": 4,
   "id": "9fe249b6",
   "metadata": {
    "execution": {
     "iopub.execute_input": "2024-10-20T00:40:54.368508Z",
     "iopub.status.busy": "2024-10-20T00:40:54.368032Z",
     "iopub.status.idle": "2024-10-20T00:40:54.401065Z",
     "shell.execute_reply": "2024-10-20T00:40:54.399822Z"
    },
    "papermill": {
     "duration": 0.045754,
     "end_time": "2024-10-20T00:40:54.404049",
     "exception": false,
     "start_time": "2024-10-20T00:40:54.358295",
     "status": "completed"
    },
    "tags": []
   },
   "outputs": [],
   "source": [
    "df=pd.read_csv(\"/kaggle/input/deepflow-encryption-dataset/encryption_attack_dataset.csv\")"
   ]
  },
  {
   "cell_type": "code",
   "execution_count": 5,
   "id": "433ae312",
   "metadata": {
    "execution": {
     "iopub.execute_input": "2024-10-20T00:40:54.422928Z",
     "iopub.status.busy": "2024-10-20T00:40:54.422475Z",
     "iopub.status.idle": "2024-10-20T00:40:54.460785Z",
     "shell.execute_reply": "2024-10-20T00:40:54.459496Z"
    },
    "papermill": {
     "duration": 0.050822,
     "end_time": "2024-10-20T00:40:54.463570",
     "exception": false,
     "start_time": "2024-10-20T00:40:54.412748",
     "status": "completed"
    },
    "tags": []
   },
   "outputs": [
    {
     "data": {
      "text/html": [
       "<div>\n",
       "<style scoped>\n",
       "    .dataframe tbody tr th:only-of-type {\n",
       "        vertical-align: middle;\n",
       "    }\n",
       "\n",
       "    .dataframe tbody tr th {\n",
       "        vertical-align: top;\n",
       "    }\n",
       "\n",
       "    .dataframe thead th {\n",
       "        text-align: right;\n",
       "    }\n",
       "</style>\n",
       "<table border=\"1\" class=\"dataframe\">\n",
       "  <thead>\n",
       "    <tr style=\"text-align: right;\">\n",
       "      <th></th>\n",
       "      <th>Algorithm</th>\n",
       "      <th>Key Size</th>\n",
       "      <th>Encryption Time</th>\n",
       "      <th>Decryption Time</th>\n",
       "      <th>Attack Type</th>\n",
       "      <th>Attack Success</th>\n",
       "      <th>Attack Time</th>\n",
       "      <th>Next Algo</th>\n",
       "      <th>Next KSize</th>\n",
       "    </tr>\n",
       "  </thead>\n",
       "  <tbody>\n",
       "    <tr>\n",
       "      <th>0</th>\n",
       "      <td>AES</td>\n",
       "      <td>128</td>\n",
       "      <td>0.005115</td>\n",
       "      <td>0.000095</td>\n",
       "      <td>Classical Attack</td>\n",
       "      <td>False</td>\n",
       "      <td>10.000000</td>\n",
       "      <td>NaN</td>\n",
       "      <td>NaN</td>\n",
       "    </tr>\n",
       "    <tr>\n",
       "      <th>1</th>\n",
       "      <td>Kyber</td>\n",
       "      <td>2048</td>\n",
       "      <td>0.001461</td>\n",
       "      <td>0.002356</td>\n",
       "      <td>Quantum Attack</td>\n",
       "      <td>True</td>\n",
       "      <td>3.476478</td>\n",
       "      <td>McEliece</td>\n",
       "      <td>Higher</td>\n",
       "    </tr>\n",
       "    <tr>\n",
       "      <th>2</th>\n",
       "      <td>McEliece</td>\n",
       "      <td>192</td>\n",
       "      <td>0.000316</td>\n",
       "      <td>0.000113</td>\n",
       "      <td>Classical Attack</td>\n",
       "      <td>False</td>\n",
       "      <td>10.000000</td>\n",
       "      <td>NaN</td>\n",
       "      <td>NaN</td>\n",
       "    </tr>\n",
       "    <tr>\n",
       "      <th>3</th>\n",
       "      <td>RC4</td>\n",
       "      <td>128</td>\n",
       "      <td>0.000236</td>\n",
       "      <td>0.000018</td>\n",
       "      <td>Quantum Attack</td>\n",
       "      <td>True</td>\n",
       "      <td>1.737776</td>\n",
       "      <td>Kyber</td>\n",
       "      <td>Higher</td>\n",
       "    </tr>\n",
       "    <tr>\n",
       "      <th>4</th>\n",
       "      <td>AES</td>\n",
       "      <td>128</td>\n",
       "      <td>0.000048</td>\n",
       "      <td>0.000037</td>\n",
       "      <td>Classical Attack</td>\n",
       "      <td>False</td>\n",
       "      <td>10.000000</td>\n",
       "      <td>NaN</td>\n",
       "      <td>NaN</td>\n",
       "    </tr>\n",
       "    <tr>\n",
       "      <th>...</th>\n",
       "      <td>...</td>\n",
       "      <td>...</td>\n",
       "      <td>...</td>\n",
       "      <td>...</td>\n",
       "      <td>...</td>\n",
       "      <td>...</td>\n",
       "      <td>...</td>\n",
       "      <td>...</td>\n",
       "      <td>...</td>\n",
       "    </tr>\n",
       "    <tr>\n",
       "      <th>3995</th>\n",
       "      <td>RC4</td>\n",
       "      <td>128</td>\n",
       "      <td>0.000023</td>\n",
       "      <td>0.000014</td>\n",
       "      <td>Classical Attack</td>\n",
       "      <td>False</td>\n",
       "      <td>10.000000</td>\n",
       "      <td>NaN</td>\n",
       "      <td>NaN</td>\n",
       "    </tr>\n",
       "    <tr>\n",
       "      <th>3996</th>\n",
       "      <td>AES</td>\n",
       "      <td>128</td>\n",
       "      <td>0.000041</td>\n",
       "      <td>0.000029</td>\n",
       "      <td>Quantum Attack</td>\n",
       "      <td>True</td>\n",
       "      <td>3.800863</td>\n",
       "      <td>Kyber</td>\n",
       "      <td>Higher</td>\n",
       "    </tr>\n",
       "    <tr>\n",
       "      <th>3997</th>\n",
       "      <td>Kyber</td>\n",
       "      <td>2048</td>\n",
       "      <td>0.000886</td>\n",
       "      <td>0.002002</td>\n",
       "      <td>Classical Attack</td>\n",
       "      <td>True</td>\n",
       "      <td>1.821394</td>\n",
       "      <td>McEliece</td>\n",
       "      <td>Higher</td>\n",
       "    </tr>\n",
       "    <tr>\n",
       "      <th>3998</th>\n",
       "      <td>McEliece</td>\n",
       "      <td>192</td>\n",
       "      <td>0.000167</td>\n",
       "      <td>0.000104</td>\n",
       "      <td>Quantum Attack</td>\n",
       "      <td>True</td>\n",
       "      <td>2.869599</td>\n",
       "      <td>Kyber</td>\n",
       "      <td>Higher</td>\n",
       "    </tr>\n",
       "    <tr>\n",
       "      <th>3999</th>\n",
       "      <td>RC4</td>\n",
       "      <td>128</td>\n",
       "      <td>0.000024</td>\n",
       "      <td>0.000014</td>\n",
       "      <td>Classical Attack</td>\n",
       "      <td>False</td>\n",
       "      <td>10.000000</td>\n",
       "      <td>NaN</td>\n",
       "      <td>NaN</td>\n",
       "    </tr>\n",
       "  </tbody>\n",
       "</table>\n",
       "<p>4000 rows × 9 columns</p>\n",
       "</div>"
      ],
      "text/plain": [
       "     Algorithm  Key Size  Encryption Time  Decryption Time       Attack Type  \\\n",
       "0          AES       128         0.005115         0.000095  Classical Attack   \n",
       "1        Kyber      2048         0.001461         0.002356    Quantum Attack   \n",
       "2     McEliece       192         0.000316         0.000113  Classical Attack   \n",
       "3          RC4       128         0.000236         0.000018    Quantum Attack   \n",
       "4          AES       128         0.000048         0.000037  Classical Attack   \n",
       "...        ...       ...              ...              ...               ...   \n",
       "3995       RC4       128         0.000023         0.000014  Classical Attack   \n",
       "3996       AES       128         0.000041         0.000029    Quantum Attack   \n",
       "3997     Kyber      2048         0.000886         0.002002  Classical Attack   \n",
       "3998  McEliece       192         0.000167         0.000104    Quantum Attack   \n",
       "3999       RC4       128         0.000024         0.000014  Classical Attack   \n",
       "\n",
       "      Attack Success  Attack Time Next Algo Next KSize  \n",
       "0              False    10.000000       NaN        NaN  \n",
       "1               True     3.476478  McEliece     Higher  \n",
       "2              False    10.000000       NaN        NaN  \n",
       "3               True     1.737776     Kyber     Higher  \n",
       "4              False    10.000000       NaN        NaN  \n",
       "...              ...          ...       ...        ...  \n",
       "3995           False    10.000000       NaN        NaN  \n",
       "3996            True     3.800863     Kyber     Higher  \n",
       "3997            True     1.821394  McEliece     Higher  \n",
       "3998            True     2.869599     Kyber     Higher  \n",
       "3999           False    10.000000       NaN        NaN  \n",
       "\n",
       "[4000 rows x 9 columns]"
      ]
     },
     "execution_count": 5,
     "metadata": {},
     "output_type": "execute_result"
    }
   ],
   "source": [
    "df"
   ]
  },
  {
   "cell_type": "code",
   "execution_count": 6,
   "id": "3b4b2626",
   "metadata": {
    "execution": {
     "iopub.execute_input": "2024-10-20T00:40:54.484419Z",
     "iopub.status.busy": "2024-10-20T00:40:54.483970Z",
     "iopub.status.idle": "2024-10-20T00:40:54.492576Z",
     "shell.execute_reply": "2024-10-20T00:40:54.491263Z"
    },
    "papermill": {
     "duration": 0.022773,
     "end_time": "2024-10-20T00:40:54.495400",
     "exception": false,
     "start_time": "2024-10-20T00:40:54.472627",
     "status": "completed"
    },
    "tags": []
   },
   "outputs": [],
   "source": [
    "df['Next Algo']= df['Next Algo'].fillna(\"None\")\n"
   ]
  },
  {
   "cell_type": "code",
   "execution_count": 7,
   "id": "a0c951f9",
   "metadata": {
    "execution": {
     "iopub.execute_input": "2024-10-20T00:40:54.515166Z",
     "iopub.status.busy": "2024-10-20T00:40:54.514693Z",
     "iopub.status.idle": "2024-10-20T00:40:54.533321Z",
     "shell.execute_reply": "2024-10-20T00:40:54.532001Z"
    },
    "papermill": {
     "duration": 0.031873,
     "end_time": "2024-10-20T00:40:54.536293",
     "exception": false,
     "start_time": "2024-10-20T00:40:54.504420",
     "status": "completed"
    },
    "tags": []
   },
   "outputs": [
    {
     "data": {
      "text/plain": [
       "Next Algo\n",
       "None        2358\n",
       "McEliece     877\n",
       "Kyber        765\n",
       "Name: count, dtype: int64"
      ]
     },
     "execution_count": 7,
     "metadata": {},
     "output_type": "execute_result"
    }
   ],
   "source": [
    "df['Next Algo'].value_counts()"
   ]
  },
  {
   "cell_type": "code",
   "execution_count": 8,
   "id": "84ad3792",
   "metadata": {
    "execution": {
     "iopub.execute_input": "2024-10-20T00:40:54.555791Z",
     "iopub.status.busy": "2024-10-20T00:40:54.555322Z",
     "iopub.status.idle": "2024-10-20T00:40:54.564649Z",
     "shell.execute_reply": "2024-10-20T00:40:54.563368Z"
    },
    "papermill": {
     "duration": 0.021949,
     "end_time": "2024-10-20T00:40:54.567233",
     "exception": false,
     "start_time": "2024-10-20T00:40:54.545284",
     "status": "completed"
    },
    "tags": []
   },
   "outputs": [],
   "source": [
    "X=df[['Algorithm', \"Key Size\",\"Attack Type\", \"Attack Success\", \"Attack Time\"]]\n",
    "y=df['Next Algo']"
   ]
  },
  {
   "cell_type": "code",
   "execution_count": 9,
   "id": "f9b1f028",
   "metadata": {
    "execution": {
     "iopub.execute_input": "2024-10-20T00:40:54.587280Z",
     "iopub.status.busy": "2024-10-20T00:40:54.586357Z",
     "iopub.status.idle": "2024-10-20T00:40:54.596452Z",
     "shell.execute_reply": "2024-10-20T00:40:54.595345Z"
    },
    "papermill": {
     "duration": 0.02308,
     "end_time": "2024-10-20T00:40:54.599237",
     "exception": false,
     "start_time": "2024-10-20T00:40:54.576157",
     "status": "completed"
    },
    "tags": []
   },
   "outputs": [
    {
     "data": {
      "text/plain": [
       "0           None\n",
       "1       McEliece\n",
       "2           None\n",
       "3          Kyber\n",
       "4           None\n",
       "          ...   \n",
       "3995        None\n",
       "3996       Kyber\n",
       "3997    McEliece\n",
       "3998       Kyber\n",
       "3999        None\n",
       "Name: Next Algo, Length: 4000, dtype: object"
      ]
     },
     "execution_count": 9,
     "metadata": {},
     "output_type": "execute_result"
    }
   ],
   "source": [
    "y"
   ]
  },
  {
   "cell_type": "code",
   "execution_count": 10,
   "id": "20bc0753",
   "metadata": {
    "execution": {
     "iopub.execute_input": "2024-10-20T00:40:54.619317Z",
     "iopub.status.busy": "2024-10-20T00:40:54.618458Z",
     "iopub.status.idle": "2024-10-20T00:40:54.634772Z",
     "shell.execute_reply": "2024-10-20T00:40:54.633443Z"
    },
    "papermill": {
     "duration": 0.029331,
     "end_time": "2024-10-20T00:40:54.637568",
     "exception": false,
     "start_time": "2024-10-20T00:40:54.608237",
     "status": "completed"
    },
    "tags": []
   },
   "outputs": [],
   "source": [
    "X_train, X_test, y_train, y_test= train_test_split(X, y,test_size=0.2, stratify=y, random_state=66 )"
   ]
  },
  {
   "cell_type": "code",
   "execution_count": 11,
   "id": "d04f5f0b",
   "metadata": {
    "execution": {
     "iopub.execute_input": "2024-10-20T00:40:54.658309Z",
     "iopub.status.busy": "2024-10-20T00:40:54.657805Z",
     "iopub.status.idle": "2024-10-20T00:40:54.674749Z",
     "shell.execute_reply": "2024-10-20T00:40:54.673449Z"
    },
    "papermill": {
     "duration": 0.031,
     "end_time": "2024-10-20T00:40:54.677607",
     "exception": false,
     "start_time": "2024-10-20T00:40:54.646607",
     "status": "completed"
    },
    "tags": []
   },
   "outputs": [
    {
     "data": {
      "text/html": [
       "<div>\n",
       "<style scoped>\n",
       "    .dataframe tbody tr th:only-of-type {\n",
       "        vertical-align: middle;\n",
       "    }\n",
       "\n",
       "    .dataframe tbody tr th {\n",
       "        vertical-align: top;\n",
       "    }\n",
       "\n",
       "    .dataframe thead th {\n",
       "        text-align: right;\n",
       "    }\n",
       "</style>\n",
       "<table border=\"1\" class=\"dataframe\">\n",
       "  <thead>\n",
       "    <tr style=\"text-align: right;\">\n",
       "      <th></th>\n",
       "      <th>Algorithm</th>\n",
       "      <th>Key Size</th>\n",
       "      <th>Attack Type</th>\n",
       "      <th>Attack Success</th>\n",
       "      <th>Attack Time</th>\n",
       "    </tr>\n",
       "  </thead>\n",
       "  <tbody>\n",
       "    <tr>\n",
       "      <th>1840</th>\n",
       "      <td>AES</td>\n",
       "      <td>128</td>\n",
       "      <td>Classical Attack</td>\n",
       "      <td>False</td>\n",
       "      <td>10.000000</td>\n",
       "    </tr>\n",
       "    <tr>\n",
       "      <th>1611</th>\n",
       "      <td>RC4</td>\n",
       "      <td>128</td>\n",
       "      <td>Classical Attack</td>\n",
       "      <td>False</td>\n",
       "      <td>10.000000</td>\n",
       "    </tr>\n",
       "    <tr>\n",
       "      <th>1947</th>\n",
       "      <td>RC4</td>\n",
       "      <td>128</td>\n",
       "      <td>Quantum Attack</td>\n",
       "      <td>True</td>\n",
       "      <td>1.897266</td>\n",
       "    </tr>\n",
       "    <tr>\n",
       "      <th>3057</th>\n",
       "      <td>Kyber</td>\n",
       "      <td>2048</td>\n",
       "      <td>Classical Attack</td>\n",
       "      <td>False</td>\n",
       "      <td>10.000000</td>\n",
       "    </tr>\n",
       "    <tr>\n",
       "      <th>2600</th>\n",
       "      <td>AES</td>\n",
       "      <td>128</td>\n",
       "      <td>Classical Attack</td>\n",
       "      <td>False</td>\n",
       "      <td>10.000000</td>\n",
       "    </tr>\n",
       "    <tr>\n",
       "      <th>...</th>\n",
       "      <td>...</td>\n",
       "      <td>...</td>\n",
       "      <td>...</td>\n",
       "      <td>...</td>\n",
       "      <td>...</td>\n",
       "    </tr>\n",
       "    <tr>\n",
       "      <th>2788</th>\n",
       "      <td>AES</td>\n",
       "      <td>128</td>\n",
       "      <td>Classical Attack</td>\n",
       "      <td>True</td>\n",
       "      <td>2.041900</td>\n",
       "    </tr>\n",
       "    <tr>\n",
       "      <th>899</th>\n",
       "      <td>RC4</td>\n",
       "      <td>128</td>\n",
       "      <td>Quantum Attack</td>\n",
       "      <td>True</td>\n",
       "      <td>2.854953</td>\n",
       "    </tr>\n",
       "    <tr>\n",
       "      <th>1433</th>\n",
       "      <td>Kyber</td>\n",
       "      <td>2048</td>\n",
       "      <td>Quantum Attack</td>\n",
       "      <td>False</td>\n",
       "      <td>10.000000</td>\n",
       "    </tr>\n",
       "    <tr>\n",
       "      <th>1744</th>\n",
       "      <td>AES</td>\n",
       "      <td>128</td>\n",
       "      <td>Quantum Attack</td>\n",
       "      <td>True</td>\n",
       "      <td>4.308194</td>\n",
       "    </tr>\n",
       "    <tr>\n",
       "      <th>2305</th>\n",
       "      <td>Kyber</td>\n",
       "      <td>2048</td>\n",
       "      <td>Quantum Attack</td>\n",
       "      <td>True</td>\n",
       "      <td>4.933136</td>\n",
       "    </tr>\n",
       "  </tbody>\n",
       "</table>\n",
       "<p>3200 rows × 5 columns</p>\n",
       "</div>"
      ],
      "text/plain": [
       "     Algorithm  Key Size       Attack Type  Attack Success  Attack Time\n",
       "1840       AES       128  Classical Attack           False    10.000000\n",
       "1611       RC4       128  Classical Attack           False    10.000000\n",
       "1947       RC4       128    Quantum Attack            True     1.897266\n",
       "3057     Kyber      2048  Classical Attack           False    10.000000\n",
       "2600       AES       128  Classical Attack           False    10.000000\n",
       "...        ...       ...               ...             ...          ...\n",
       "2788       AES       128  Classical Attack            True     2.041900\n",
       "899        RC4       128    Quantum Attack            True     2.854953\n",
       "1433     Kyber      2048    Quantum Attack           False    10.000000\n",
       "1744       AES       128    Quantum Attack            True     4.308194\n",
       "2305     Kyber      2048    Quantum Attack            True     4.933136\n",
       "\n",
       "[3200 rows x 5 columns]"
      ]
     },
     "execution_count": 11,
     "metadata": {},
     "output_type": "execute_result"
    }
   ],
   "source": [
    "X_train"
   ]
  },
  {
   "cell_type": "code",
   "execution_count": 12,
   "id": "5f73cc52",
   "metadata": {
    "collapsed": true,
    "execution": {
     "iopub.execute_input": "2024-10-20T00:40:54.698963Z",
     "iopub.status.busy": "2024-10-20T00:40:54.698521Z",
     "iopub.status.idle": "2024-10-20T00:41:54.841939Z",
     "shell.execute_reply": "2024-10-20T00:41:54.840662Z"
    },
    "jupyter": {
     "outputs_hidden": true
    },
    "papermill": {
     "duration": 60.157802,
     "end_time": "2024-10-20T00:41:54.845095",
     "exception": false,
     "start_time": "2024-10-20T00:40:54.687293",
     "status": "completed"
    },
    "tags": []
   },
   "outputs": [
    {
     "name": "stdout",
     "output_type": "stream",
     "text": [
      "[flaml.automl.logger: 10-20 00:40:54] {1728} INFO - task = classification\n",
      "[flaml.automl.logger: 10-20 00:40:54] {1739} INFO - Evaluation method: cv\n",
      "[flaml.automl.logger: 10-20 00:40:54] {1838} INFO - Minimizing error metric: log_loss\n",
      "[flaml.automl.logger: 10-20 00:40:54] {1955} INFO - List of ML learners in AutoML Run: ['lgbm', 'rf', 'xgboost', 'extra_tree', 'xgb_limitdepth', 'sgd', 'catboost', 'lrl1']\n",
      "[flaml.automl.logger: 10-20 00:40:54] {2258} INFO - iteration 0, current learner lgbm\n",
      "[flaml.automl.logger: 10-20 00:40:55] {2393} INFO - Estimated sufficient time budget=1911s. Estimated necessary time budget=47s.\n",
      "[flaml.automl.logger: 10-20 00:40:55] {2442} INFO -  at 0.5s,\testimator lgbm's best error=0.5827,\tbest estimator lgbm's best error=0.5827\n",
      "[flaml.automl.logger: 10-20 00:40:55] {2258} INFO - iteration 1, current learner lgbm\n",
      "[flaml.automl.logger: 10-20 00:40:55] {2442} INFO -  at 0.6s,\testimator lgbm's best error=0.5827,\tbest estimator lgbm's best error=0.5827\n",
      "[flaml.automl.logger: 10-20 00:40:55] {2258} INFO - iteration 2, current learner lgbm\n",
      "[flaml.automl.logger: 10-20 00:40:55] {2442} INFO -  at 0.7s,\testimator lgbm's best error=0.3374,\tbest estimator lgbm's best error=0.3374\n",
      "[flaml.automl.logger: 10-20 00:40:55] {2258} INFO - iteration 3, current learner sgd\n",
      "[flaml.automl.logger: 10-20 00:40:55] {2442} INFO -  at 0.9s,\testimator sgd's best error=0.9589,\tbest estimator lgbm's best error=0.3374\n",
      "[flaml.automl.logger: 10-20 00:40:55] {2258} INFO - iteration 4, current learner lgbm\n",
      "[flaml.automl.logger: 10-20 00:40:55] {2442} INFO -  at 1.0s,\testimator lgbm's best error=0.2012,\tbest estimator lgbm's best error=0.2012\n",
      "[flaml.automl.logger: 10-20 00:40:55] {2258} INFO - iteration 5, current learner lgbm\n",
      "[flaml.automl.logger: 10-20 00:40:55] {2442} INFO -  at 1.1s,\testimator lgbm's best error=0.2012,\tbest estimator lgbm's best error=0.2012\n",
      "[flaml.automl.logger: 10-20 00:40:55] {2258} INFO - iteration 6, current learner lgbm\n",
      "[flaml.automl.logger: 10-20 00:40:55] {2442} INFO -  at 1.2s,\testimator lgbm's best error=0.1996,\tbest estimator lgbm's best error=0.1996\n",
      "[flaml.automl.logger: 10-20 00:40:55] {2258} INFO - iteration 7, current learner lgbm\n",
      "[flaml.automl.logger: 10-20 00:40:56] {2442} INFO -  at 1.3s,\testimator lgbm's best error=0.1996,\tbest estimator lgbm's best error=0.1996\n",
      "[flaml.automl.logger: 10-20 00:40:56] {2258} INFO - iteration 8, current learner lgbm\n",
      "[flaml.automl.logger: 10-20 00:40:56] {2442} INFO -  at 1.5s,\testimator lgbm's best error=0.1996,\tbest estimator lgbm's best error=0.1996\n",
      "[flaml.automl.logger: 10-20 00:40:56] {2258} INFO - iteration 9, current learner lgbm\n",
      "[flaml.automl.logger: 10-20 00:40:56] {2442} INFO -  at 1.7s,\testimator lgbm's best error=0.1996,\tbest estimator lgbm's best error=0.1996\n",
      "[flaml.automl.logger: 10-20 00:40:56] {2258} INFO - iteration 10, current learner sgd\n",
      "[flaml.automl.logger: 10-20 00:40:57] {2442} INFO -  at 2.8s,\testimator sgd's best error=0.8665,\tbest estimator lgbm's best error=0.1996\n",
      "[flaml.automl.logger: 10-20 00:40:57] {2258} INFO - iteration 11, current learner xgboost\n",
      "[flaml.automl.logger: 10-20 00:40:57] {2442} INFO -  at 3.0s,\testimator xgboost's best error=0.7406,\tbest estimator lgbm's best error=0.1996\n",
      "[flaml.automl.logger: 10-20 00:40:57] {2258} INFO - iteration 12, current learner xgboost\n",
      "[flaml.automl.logger: 10-20 00:40:57] {2442} INFO -  at 3.1s,\testimator xgboost's best error=0.7406,\tbest estimator lgbm's best error=0.1996\n",
      "[flaml.automl.logger: 10-20 00:40:57] {2258} INFO - iteration 13, current learner extra_tree\n",
      "[flaml.automl.logger: 10-20 00:40:57] {2442} INFO -  at 3.2s,\testimator extra_tree's best error=0.2537,\tbest estimator lgbm's best error=0.1996\n",
      "[flaml.automl.logger: 10-20 00:40:57] {2258} INFO - iteration 14, current learner extra_tree\n",
      "[flaml.automl.logger: 10-20 00:40:58] {2442} INFO -  at 3.4s,\testimator extra_tree's best error=0.2243,\tbest estimator lgbm's best error=0.1996\n",
      "[flaml.automl.logger: 10-20 00:40:58] {2258} INFO - iteration 15, current learner extra_tree\n",
      "[flaml.automl.logger: 10-20 00:40:58] {2442} INFO -  at 3.5s,\testimator extra_tree's best error=0.2243,\tbest estimator lgbm's best error=0.1996\n",
      "[flaml.automl.logger: 10-20 00:40:58] {2258} INFO - iteration 16, current learner rf\n",
      "[flaml.automl.logger: 10-20 00:40:58] {2442} INFO -  at 3.7s,\testimator rf's best error=0.3014,\tbest estimator lgbm's best error=0.1996\n",
      "[flaml.automl.logger: 10-20 00:40:58] {2258} INFO - iteration 17, current learner rf\n",
      "[flaml.automl.logger: 10-20 00:40:58] {2442} INFO -  at 3.8s,\testimator rf's best error=0.2172,\tbest estimator lgbm's best error=0.1996\n",
      "[flaml.automl.logger: 10-20 00:40:58] {2258} INFO - iteration 18, current learner extra_tree\n",
      "[flaml.automl.logger: 10-20 00:40:58] {2442} INFO -  at 4.0s,\testimator extra_tree's best error=0.2243,\tbest estimator lgbm's best error=0.1996\n",
      "[flaml.automl.logger: 10-20 00:40:58] {2258} INFO - iteration 19, current learner lgbm\n",
      "[flaml.automl.logger: 10-20 00:40:58] {2442} INFO -  at 4.1s,\testimator lgbm's best error=0.1996,\tbest estimator lgbm's best error=0.1996\n",
      "[flaml.automl.logger: 10-20 00:40:58] {2258} INFO - iteration 20, current learner rf\n",
      "[flaml.automl.logger: 10-20 00:40:58] {2442} INFO -  at 4.2s,\testimator rf's best error=0.2172,\tbest estimator lgbm's best error=0.1996\n",
      "[flaml.automl.logger: 10-20 00:40:58] {2258} INFO - iteration 21, current learner rf\n",
      "[flaml.automl.logger: 10-20 00:40:59] {2442} INFO -  at 4.5s,\testimator rf's best error=0.2172,\tbest estimator lgbm's best error=0.1996\n",
      "[flaml.automl.logger: 10-20 00:40:59] {2258} INFO - iteration 22, current learner rf\n",
      "[flaml.automl.logger: 10-20 00:40:59] {2442} INFO -  at 4.6s,\testimator rf's best error=0.2080,\tbest estimator lgbm's best error=0.1996\n",
      "[flaml.automl.logger: 10-20 00:40:59] {2258} INFO - iteration 23, current learner lgbm\n",
      "[flaml.automl.logger: 10-20 00:40:59] {2442} INFO -  at 4.8s,\testimator lgbm's best error=0.1996,\tbest estimator lgbm's best error=0.1996\n",
      "[flaml.automl.logger: 10-20 00:40:59] {2258} INFO - iteration 24, current learner lgbm\n",
      "[flaml.automl.logger: 10-20 00:40:59] {2442} INFO -  at 5.0s,\testimator lgbm's best error=0.1996,\tbest estimator lgbm's best error=0.1996\n",
      "[flaml.automl.logger: 10-20 00:40:59] {2258} INFO - iteration 25, current learner extra_tree\n",
      "[flaml.automl.logger: 10-20 00:40:59] {2442} INFO -  at 5.1s,\testimator extra_tree's best error=0.2182,\tbest estimator lgbm's best error=0.1996\n",
      "[flaml.automl.logger: 10-20 00:40:59] {2258} INFO - iteration 26, current learner extra_tree\n",
      "[flaml.automl.logger: 10-20 00:41:00] {2442} INFO -  at 5.3s,\testimator extra_tree's best error=0.2091,\tbest estimator lgbm's best error=0.1996\n",
      "[flaml.automl.logger: 10-20 00:41:00] {2258} INFO - iteration 27, current learner rf\n",
      "[flaml.automl.logger: 10-20 00:41:00] {2442} INFO -  at 5.6s,\testimator rf's best error=0.2021,\tbest estimator lgbm's best error=0.1996\n",
      "[flaml.automl.logger: 10-20 00:41:00] {2258} INFO - iteration 28, current learner xgboost\n",
      "[flaml.automl.logger: 10-20 00:41:00] {2442} INFO -  at 5.7s,\testimator xgboost's best error=0.4521,\tbest estimator lgbm's best error=0.1996\n",
      "[flaml.automl.logger: 10-20 00:41:00] {2258} INFO - iteration 29, current learner extra_tree\n",
      "[flaml.automl.logger: 10-20 00:41:00] {2442} INFO -  at 5.8s,\testimator extra_tree's best error=0.2091,\tbest estimator lgbm's best error=0.1996\n",
      "[flaml.automl.logger: 10-20 00:41:00] {2258} INFO - iteration 30, current learner extra_tree\n",
      "[flaml.automl.logger: 10-20 00:41:00] {2442} INFO -  at 6.2s,\testimator extra_tree's best error=0.2069,\tbest estimator lgbm's best error=0.1996\n",
      "[flaml.automl.logger: 10-20 00:41:00] {2258} INFO - iteration 31, current learner lgbm\n",
      "[flaml.automl.logger: 10-20 00:41:01] {2442} INFO -  at 6.3s,\testimator lgbm's best error=0.1996,\tbest estimator lgbm's best error=0.1996\n",
      "[flaml.automl.logger: 10-20 00:41:01] {2258} INFO - iteration 32, current learner lgbm\n",
      "[flaml.automl.logger: 10-20 00:41:01] {2442} INFO -  at 6.4s,\testimator lgbm's best error=0.1996,\tbest estimator lgbm's best error=0.1996\n",
      "[flaml.automl.logger: 10-20 00:41:01] {2258} INFO - iteration 33, current learner rf\n",
      "[flaml.automl.logger: 10-20 00:41:01] {2442} INFO -  at 6.6s,\testimator rf's best error=0.1986,\tbest estimator rf's best error=0.1986\n",
      "[flaml.automl.logger: 10-20 00:41:01] {2258} INFO - iteration 34, current learner xgboost\n",
      "[flaml.automl.logger: 10-20 00:41:01] {2442} INFO -  at 6.7s,\testimator xgboost's best error=0.2095,\tbest estimator rf's best error=0.1986\n",
      "[flaml.automl.logger: 10-20 00:41:01] {2258} INFO - iteration 35, current learner rf\n",
      "[flaml.automl.logger: 10-20 00:41:01] {2442} INFO -  at 7.0s,\testimator rf's best error=0.1986,\tbest estimator rf's best error=0.1986\n",
      "[flaml.automl.logger: 10-20 00:41:01] {2258} INFO - iteration 36, current learner xgboost\n",
      "[flaml.automl.logger: 10-20 00:41:01] {2442} INFO -  at 7.2s,\testimator xgboost's best error=0.2095,\tbest estimator rf's best error=0.1986\n",
      "[flaml.automl.logger: 10-20 00:41:01] {2258} INFO - iteration 37, current learner xgboost\n",
      "[flaml.automl.logger: 10-20 00:41:02] {2442} INFO -  at 7.3s,\testimator xgboost's best error=0.2095,\tbest estimator rf's best error=0.1986\n",
      "[flaml.automl.logger: 10-20 00:41:02] {2258} INFO - iteration 38, current learner xgboost\n",
      "[flaml.automl.logger: 10-20 00:41:02] {2442} INFO -  at 7.5s,\testimator xgboost's best error=0.2029,\tbest estimator rf's best error=0.1986\n",
      "[flaml.automl.logger: 10-20 00:41:02] {2258} INFO - iteration 39, current learner xgboost\n",
      "[flaml.automl.logger: 10-20 00:41:02] {2442} INFO -  at 7.7s,\testimator xgboost's best error=0.2029,\tbest estimator rf's best error=0.1986\n",
      "[flaml.automl.logger: 10-20 00:41:02] {2258} INFO - iteration 40, current learner rf\n",
      "[flaml.automl.logger: 10-20 00:41:02] {2442} INFO -  at 7.8s,\testimator rf's best error=0.1986,\tbest estimator rf's best error=0.1986\n",
      "[flaml.automl.logger: 10-20 00:41:02] {2258} INFO - iteration 41, current learner xgboost\n",
      "[flaml.automl.logger: 10-20 00:41:02] {2442} INFO -  at 8.0s,\testimator xgboost's best error=0.2029,\tbest estimator rf's best error=0.1986\n",
      "[flaml.automl.logger: 10-20 00:41:02] {2258} INFO - iteration 42, current learner xgboost\n",
      "[flaml.automl.logger: 10-20 00:41:02] {2442} INFO -  at 8.2s,\testimator xgboost's best error=0.2029,\tbest estimator rf's best error=0.1986\n",
      "[flaml.automl.logger: 10-20 00:41:02] {2258} INFO - iteration 43, current learner lgbm\n",
      "[flaml.automl.logger: 10-20 00:41:03] {2442} INFO -  at 8.3s,\testimator lgbm's best error=0.1996,\tbest estimator rf's best error=0.1986\n",
      "[flaml.automl.logger: 10-20 00:41:03] {2258} INFO - iteration 44, current learner xgboost\n",
      "[flaml.automl.logger: 10-20 00:41:03] {2442} INFO -  at 8.5s,\testimator xgboost's best error=0.1996,\tbest estimator rf's best error=0.1986\n",
      "[flaml.automl.logger: 10-20 00:41:03] {2258} INFO - iteration 45, current learner sgd\n",
      "[flaml.automl.logger: 10-20 00:41:03] {2442} INFO -  at 8.8s,\testimator sgd's best error=0.8665,\tbest estimator rf's best error=0.1986\n",
      "[flaml.automl.logger: 10-20 00:41:03] {2258} INFO - iteration 46, current learner xgboost\n",
      "[flaml.automl.logger: 10-20 00:41:03] {2442} INFO -  at 8.9s,\testimator xgboost's best error=0.1996,\tbest estimator rf's best error=0.1986\n",
      "[flaml.automl.logger: 10-20 00:41:03] {2258} INFO - iteration 47, current learner rf\n",
      "[flaml.automl.logger: 10-20 00:41:03] {2442} INFO -  at 9.1s,\testimator rf's best error=0.1986,\tbest estimator rf's best error=0.1986\n",
      "[flaml.automl.logger: 10-20 00:41:03] {2258} INFO - iteration 48, current learner xgboost\n",
      "[flaml.automl.logger: 10-20 00:41:04] {2442} INFO -  at 9.3s,\testimator xgboost's best error=0.1996,\tbest estimator rf's best error=0.1986\n",
      "[flaml.automl.logger: 10-20 00:41:04] {2258} INFO - iteration 49, current learner lgbm\n",
      "[flaml.automl.logger: 10-20 00:41:04] {2442} INFO -  at 9.5s,\testimator lgbm's best error=0.1996,\tbest estimator rf's best error=0.1986\n",
      "[flaml.automl.logger: 10-20 00:41:04] {2258} INFO - iteration 50, current learner rf\n",
      "[flaml.automl.logger: 10-20 00:41:04] {2442} INFO -  at 9.6s,\testimator rf's best error=0.1986,\tbest estimator rf's best error=0.1986\n",
      "[flaml.automl.logger: 10-20 00:41:04] {2258} INFO - iteration 51, current learner extra_tree\n",
      "[flaml.automl.logger: 10-20 00:41:04] {2442} INFO -  at 9.8s,\testimator extra_tree's best error=0.2056,\tbest estimator rf's best error=0.1986\n",
      "[flaml.automl.logger: 10-20 00:41:04] {2258} INFO - iteration 52, current learner rf\n",
      "[flaml.automl.logger: 10-20 00:41:04] {2442} INFO -  at 9.9s,\testimator rf's best error=0.1986,\tbest estimator rf's best error=0.1986\n",
      "[flaml.automl.logger: 10-20 00:41:04] {2258} INFO - iteration 53, current learner rf\n",
      "[flaml.automl.logger: 10-20 00:41:04] {2442} INFO -  at 10.2s,\testimator rf's best error=0.1960,\tbest estimator rf's best error=0.1960\n",
      "[flaml.automl.logger: 10-20 00:41:04] {2258} INFO - iteration 54, current learner rf\n",
      "[flaml.automl.logger: 10-20 00:41:05] {2442} INFO -  at 10.3s,\testimator rf's best error=0.1960,\tbest estimator rf's best error=0.1960\n",
      "[flaml.automl.logger: 10-20 00:41:05] {2258} INFO - iteration 55, current learner lgbm\n",
      "[flaml.automl.logger: 10-20 00:41:05] {2442} INFO -  at 10.5s,\testimator lgbm's best error=0.1996,\tbest estimator rf's best error=0.1960\n",
      "[flaml.automl.logger: 10-20 00:41:05] {2258} INFO - iteration 56, current learner xgboost\n",
      "[flaml.automl.logger: 10-20 00:41:05] {2442} INFO -  at 10.6s,\testimator xgboost's best error=0.1996,\tbest estimator rf's best error=0.1960\n",
      "[flaml.automl.logger: 10-20 00:41:05] {2258} INFO - iteration 57, current learner rf\n",
      "[flaml.automl.logger: 10-20 00:41:05] {2442} INFO -  at 11.0s,\testimator rf's best error=0.1960,\tbest estimator rf's best error=0.1960\n",
      "[flaml.automl.logger: 10-20 00:41:05] {2258} INFO - iteration 58, current learner rf\n",
      "[flaml.automl.logger: 10-20 00:41:05] {2442} INFO -  at 11.2s,\testimator rf's best error=0.1960,\tbest estimator rf's best error=0.1960\n",
      "[flaml.automl.logger: 10-20 00:41:05] {2258} INFO - iteration 59, current learner rf\n",
      "[flaml.automl.logger: 10-20 00:41:06] {2442} INFO -  at 11.5s,\testimator rf's best error=0.1960,\tbest estimator rf's best error=0.1960\n",
      "[flaml.automl.logger: 10-20 00:41:06] {2258} INFO - iteration 60, current learner lgbm\n",
      "[flaml.automl.logger: 10-20 00:41:06] {2442} INFO -  at 11.7s,\testimator lgbm's best error=0.1996,\tbest estimator rf's best error=0.1960\n",
      "[flaml.automl.logger: 10-20 00:41:06] {2258} INFO - iteration 61, current learner xgboost\n",
      "[flaml.automl.logger: 10-20 00:41:06] {2442} INFO -  at 11.9s,\testimator xgboost's best error=0.1996,\tbest estimator rf's best error=0.1960\n",
      "[flaml.automl.logger: 10-20 00:41:06] {2258} INFO - iteration 62, current learner rf\n",
      "[flaml.automl.logger: 10-20 00:41:06] {2442} INFO -  at 12.1s,\testimator rf's best error=0.1960,\tbest estimator rf's best error=0.1960\n",
      "[flaml.automl.logger: 10-20 00:41:06] {2258} INFO - iteration 63, current learner xgboost\n",
      "[flaml.automl.logger: 10-20 00:41:06] {2442} INFO -  at 12.3s,\testimator xgboost's best error=0.1996,\tbest estimator rf's best error=0.1960\n",
      "[flaml.automl.logger: 10-20 00:41:06] {2258} INFO - iteration 64, current learner xgboost\n",
      "[flaml.automl.logger: 10-20 00:41:07] {2442} INFO -  at 12.5s,\testimator xgboost's best error=0.1996,\tbest estimator rf's best error=0.1960\n",
      "[flaml.automl.logger: 10-20 00:41:07] {2258} INFO - iteration 65, current learner rf\n",
      "[flaml.automl.logger: 10-20 00:41:07] {2442} INFO -  at 12.8s,\testimator rf's best error=0.1938,\tbest estimator rf's best error=0.1938\n",
      "[flaml.automl.logger: 10-20 00:41:07] {2258} INFO - iteration 66, current learner rf\n",
      "[flaml.automl.logger: 10-20 00:41:07] {2442} INFO -  at 13.2s,\testimator rf's best error=0.1938,\tbest estimator rf's best error=0.1938\n",
      "[flaml.automl.logger: 10-20 00:41:07] {2258} INFO - iteration 67, current learner xgboost\n",
      "[flaml.automl.logger: 10-20 00:41:08] {2442} INFO -  at 13.3s,\testimator xgboost's best error=0.1996,\tbest estimator rf's best error=0.1938\n",
      "[flaml.automl.logger: 10-20 00:41:08] {2258} INFO - iteration 68, current learner rf\n",
      "[flaml.automl.logger: 10-20 00:41:08] {2442} INFO -  at 13.7s,\testimator rf's best error=0.1938,\tbest estimator rf's best error=0.1938\n",
      "[flaml.automl.logger: 10-20 00:41:08] {2258} INFO - iteration 69, current learner lgbm\n",
      "[flaml.automl.logger: 10-20 00:41:08] {2442} INFO -  at 13.8s,\testimator lgbm's best error=0.1996,\tbest estimator rf's best error=0.1938\n",
      "[flaml.automl.logger: 10-20 00:41:08] {2258} INFO - iteration 70, current learner rf\n",
      "[flaml.automl.logger: 10-20 00:41:08] {2442} INFO -  at 14.2s,\testimator rf's best error=0.1927,\tbest estimator rf's best error=0.1927\n",
      "[flaml.automl.logger: 10-20 00:41:08] {2258} INFO - iteration 71, current learner rf\n",
      "[flaml.automl.logger: 10-20 00:41:09] {2442} INFO -  at 14.6s,\testimator rf's best error=0.1927,\tbest estimator rf's best error=0.1927\n",
      "[flaml.automl.logger: 10-20 00:41:09] {2258} INFO - iteration 72, current learner rf\n",
      "[flaml.automl.logger: 10-20 00:41:09] {2442} INFO -  at 15.3s,\testimator rf's best error=0.1921,\tbest estimator rf's best error=0.1921\n",
      "[flaml.automl.logger: 10-20 00:41:09] {2258} INFO - iteration 73, current learner extra_tree\n",
      "[flaml.automl.logger: 10-20 00:41:10] {2442} INFO -  at 15.5s,\testimator extra_tree's best error=0.2056,\tbest estimator rf's best error=0.1921\n",
      "[flaml.automl.logger: 10-20 00:41:10] {2258} INFO - iteration 74, current learner rf\n",
      "[flaml.automl.logger: 10-20 00:41:10] {2442} INFO -  at 15.9s,\testimator rf's best error=0.1921,\tbest estimator rf's best error=0.1921\n",
      "[flaml.automl.logger: 10-20 00:41:10] {2258} INFO - iteration 75, current learner extra_tree\n",
      "[flaml.automl.logger: 10-20 00:41:10] {2442} INFO -  at 16.0s,\testimator extra_tree's best error=0.2056,\tbest estimator rf's best error=0.1921\n",
      "[flaml.automl.logger: 10-20 00:41:10] {2258} INFO - iteration 76, current learner rf\n",
      "[flaml.automl.logger: 10-20 00:41:11] {2442} INFO -  at 16.9s,\testimator rf's best error=0.1921,\tbest estimator rf's best error=0.1921\n",
      "[flaml.automl.logger: 10-20 00:41:11] {2258} INFO - iteration 77, current learner rf\n",
      "[flaml.automl.logger: 10-20 00:41:12] {2442} INFO -  at 17.5s,\testimator rf's best error=0.1921,\tbest estimator rf's best error=0.1921\n",
      "[flaml.automl.logger: 10-20 00:41:12] {2258} INFO - iteration 78, current learner xgboost\n",
      "[flaml.automl.logger: 10-20 00:41:12] {2442} INFO -  at 17.7s,\testimator xgboost's best error=0.1996,\tbest estimator rf's best error=0.1921\n",
      "[flaml.automl.logger: 10-20 00:41:12] {2258} INFO - iteration 79, current learner rf\n",
      "[flaml.automl.logger: 10-20 00:41:13] {2442} INFO -  at 18.8s,\testimator rf's best error=0.1921,\tbest estimator rf's best error=0.1921\n",
      "[flaml.automl.logger: 10-20 00:41:13] {2258} INFO - iteration 80, current learner catboost\n",
      "[flaml.automl.logger: 10-20 00:41:15] {2442} INFO -  at 20.6s,\testimator catboost's best error=0.2042,\tbest estimator rf's best error=0.1921\n",
      "[flaml.automl.logger: 10-20 00:41:15] {2258} INFO - iteration 81, current learner rf\n",
      "[flaml.automl.logger: 10-20 00:41:15] {2442} INFO -  at 21.1s,\testimator rf's best error=0.1921,\tbest estimator rf's best error=0.1921\n",
      "[flaml.automl.logger: 10-20 00:41:15] {2258} INFO - iteration 82, current learner catboost\n",
      "[flaml.automl.logger: 10-20 00:41:19] {2442} INFO -  at 24.5s,\testimator catboost's best error=0.2016,\tbest estimator rf's best error=0.1921\n",
      "[flaml.automl.logger: 10-20 00:41:19] {2258} INFO - iteration 83, current learner rf\n",
      "[flaml.automl.logger: 10-20 00:41:19] {2442} INFO -  at 25.1s,\testimator rf's best error=0.1917,\tbest estimator rf's best error=0.1917\n",
      "[flaml.automl.logger: 10-20 00:41:19] {2258} INFO - iteration 84, current learner extra_tree\n",
      "[flaml.automl.logger: 10-20 00:41:19] {2442} INFO -  at 25.3s,\testimator extra_tree's best error=0.2056,\tbest estimator rf's best error=0.1917\n",
      "[flaml.automl.logger: 10-20 00:41:19] {2258} INFO - iteration 85, current learner extra_tree\n",
      "[flaml.automl.logger: 10-20 00:41:20] {2442} INFO -  at 25.5s,\testimator extra_tree's best error=0.1986,\tbest estimator rf's best error=0.1917\n",
      "[flaml.automl.logger: 10-20 00:41:20] {2258} INFO - iteration 86, current learner extra_tree\n",
      "[flaml.automl.logger: 10-20 00:41:20] {2442} INFO -  at 25.7s,\testimator extra_tree's best error=0.1942,\tbest estimator rf's best error=0.1917\n",
      "[flaml.automl.logger: 10-20 00:41:20] {2258} INFO - iteration 87, current learner extra_tree\n",
      "[flaml.automl.logger: 10-20 00:41:20] {2442} INFO -  at 25.9s,\testimator extra_tree's best error=0.1942,\tbest estimator rf's best error=0.1917\n",
      "[flaml.automl.logger: 10-20 00:41:20] {2258} INFO - iteration 88, current learner extra_tree\n",
      "[flaml.automl.logger: 10-20 00:41:20] {2442} INFO -  at 26.1s,\testimator extra_tree's best error=0.1942,\tbest estimator rf's best error=0.1917\n",
      "[flaml.automl.logger: 10-20 00:41:20] {2258} INFO - iteration 89, current learner extra_tree\n",
      "[flaml.automl.logger: 10-20 00:41:20] {2442} INFO -  at 26.3s,\testimator extra_tree's best error=0.1942,\tbest estimator rf's best error=0.1917\n",
      "[flaml.automl.logger: 10-20 00:41:20] {2258} INFO - iteration 90, current learner extra_tree\n",
      "[flaml.automl.logger: 10-20 00:41:21] {2442} INFO -  at 26.4s,\testimator extra_tree's best error=0.1942,\tbest estimator rf's best error=0.1917\n",
      "[flaml.automl.logger: 10-20 00:41:21] {2258} INFO - iteration 91, current learner extra_tree\n",
      "[flaml.automl.logger: 10-20 00:41:21] {2442} INFO -  at 26.6s,\testimator extra_tree's best error=0.1930,\tbest estimator rf's best error=0.1917\n",
      "[flaml.automl.logger: 10-20 00:41:21] {2258} INFO - iteration 92, current learner extra_tree\n",
      "[flaml.automl.logger: 10-20 00:41:21] {2442} INFO -  at 26.8s,\testimator extra_tree's best error=0.1930,\tbest estimator rf's best error=0.1917\n",
      "[flaml.automl.logger: 10-20 00:41:21] {2258} INFO - iteration 93, current learner catboost\n",
      "[flaml.automl.logger: 10-20 00:41:23] {2442} INFO -  at 28.7s,\testimator catboost's best error=0.2016,\tbest estimator rf's best error=0.1917\n",
      "[flaml.automl.logger: 10-20 00:41:23] {2258} INFO - iteration 94, current learner extra_tree\n",
      "[flaml.automl.logger: 10-20 00:41:23] {2442} INFO -  at 28.9s,\testimator extra_tree's best error=0.1930,\tbest estimator rf's best error=0.1917\n",
      "[flaml.automl.logger: 10-20 00:41:23] {2258} INFO - iteration 95, current learner extra_tree\n",
      "[flaml.automl.logger: 10-20 00:41:23] {2442} INFO -  at 29.1s,\testimator extra_tree's best error=0.1930,\tbest estimator rf's best error=0.1917\n",
      "[flaml.automl.logger: 10-20 00:41:23] {2258} INFO - iteration 96, current learner rf\n",
      "[flaml.automl.logger: 10-20 00:41:24] {2442} INFO -  at 29.8s,\testimator rf's best error=0.1917,\tbest estimator rf's best error=0.1917\n",
      "[flaml.automl.logger: 10-20 00:41:24] {2258} INFO - iteration 97, current learner sgd\n",
      "[flaml.automl.logger: 10-20 00:41:24] {2442} INFO -  at 30.2s,\testimator sgd's best error=0.8005,\tbest estimator rf's best error=0.1917\n",
      "[flaml.automl.logger: 10-20 00:41:24] {2258} INFO - iteration 98, current learner xgboost\n",
      "[flaml.automl.logger: 10-20 00:41:25] {2442} INFO -  at 30.3s,\testimator xgboost's best error=0.1996,\tbest estimator rf's best error=0.1917\n",
      "[flaml.automl.logger: 10-20 00:41:25] {2258} INFO - iteration 99, current learner extra_tree\n",
      "[flaml.automl.logger: 10-20 00:41:25] {2442} INFO -  at 30.5s,\testimator extra_tree's best error=0.1930,\tbest estimator rf's best error=0.1917\n",
      "[flaml.automl.logger: 10-20 00:41:25] {2258} INFO - iteration 100, current learner xgboost\n",
      "[flaml.automl.logger: 10-20 00:41:25] {2442} INFO -  at 30.8s,\testimator xgboost's best error=0.1996,\tbest estimator rf's best error=0.1917\n",
      "[flaml.automl.logger: 10-20 00:41:25] {2258} INFO - iteration 101, current learner rf\n",
      "[flaml.automl.logger: 10-20 00:41:26] {2442} INFO -  at 31.8s,\testimator rf's best error=0.1910,\tbest estimator rf's best error=0.1910\n",
      "[flaml.automl.logger: 10-20 00:41:26] {2258} INFO - iteration 102, current learner sgd\n",
      "[flaml.automl.logger: 10-20 00:41:26] {2442} INFO -  at 32.1s,\testimator sgd's best error=0.7592,\tbest estimator rf's best error=0.1910\n",
      "[flaml.automl.logger: 10-20 00:41:26] {2258} INFO - iteration 103, current learner rf\n",
      "[flaml.automl.logger: 10-20 00:41:27] {2442} INFO -  at 32.7s,\testimator rf's best error=0.1910,\tbest estimator rf's best error=0.1910\n",
      "[flaml.automl.logger: 10-20 00:41:27] {2258} INFO - iteration 104, current learner lgbm\n",
      "[flaml.automl.logger: 10-20 00:41:27] {2442} INFO -  at 32.8s,\testimator lgbm's best error=0.1996,\tbest estimator rf's best error=0.1910\n",
      "[flaml.automl.logger: 10-20 00:41:27] {2258} INFO - iteration 105, current learner rf\n",
      "[flaml.automl.logger: 10-20 00:41:28] {2442} INFO -  at 33.5s,\testimator rf's best error=0.1910,\tbest estimator rf's best error=0.1910\n",
      "[flaml.automl.logger: 10-20 00:41:28] {2258} INFO - iteration 106, current learner rf\n",
      "[flaml.automl.logger: 10-20 00:41:29] {2442} INFO -  at 34.5s,\testimator rf's best error=0.1910,\tbest estimator rf's best error=0.1910\n",
      "[flaml.automl.logger: 10-20 00:41:29] {2258} INFO - iteration 107, current learner rf\n",
      "[flaml.automl.logger: 10-20 00:41:31] {2442} INFO -  at 36.4s,\testimator rf's best error=0.1910,\tbest estimator rf's best error=0.1910\n",
      "[flaml.automl.logger: 10-20 00:41:31] {2258} INFO - iteration 108, current learner sgd\n",
      "[flaml.automl.logger: 10-20 00:41:31] {2442} INFO -  at 37.3s,\testimator sgd's best error=0.7592,\tbest estimator rf's best error=0.1910\n",
      "[flaml.automl.logger: 10-20 00:41:31] {2258} INFO - iteration 109, current learner rf\n",
      "[flaml.automl.logger: 10-20 00:41:32] {2442} INFO -  at 37.6s,\testimator rf's best error=0.1910,\tbest estimator rf's best error=0.1910\n",
      "[flaml.automl.logger: 10-20 00:41:32] {2258} INFO - iteration 110, current learner extra_tree\n",
      "[flaml.automl.logger: 10-20 00:41:32] {2442} INFO -  at 37.9s,\testimator extra_tree's best error=0.1928,\tbest estimator rf's best error=0.1910\n",
      "[flaml.automl.logger: 10-20 00:41:32] {2258} INFO - iteration 111, current learner rf\n",
      "[flaml.automl.logger: 10-20 00:41:33] {2442} INFO -  at 38.4s,\testimator rf's best error=0.1910,\tbest estimator rf's best error=0.1910\n",
      "[flaml.automl.logger: 10-20 00:41:33] {2258} INFO - iteration 112, current learner lgbm\n",
      "[flaml.automl.logger: 10-20 00:41:33] {2442} INFO -  at 38.6s,\testimator lgbm's best error=0.1996,\tbest estimator rf's best error=0.1910\n",
      "[flaml.automl.logger: 10-20 00:41:33] {2258} INFO - iteration 113, current learner sgd\n",
      "[flaml.automl.logger: 10-20 00:41:33] {2442} INFO -  at 38.8s,\testimator sgd's best error=0.7431,\tbest estimator rf's best error=0.1910\n",
      "[flaml.automl.logger: 10-20 00:41:33] {2258} INFO - iteration 114, current learner xgboost\n",
      "[flaml.automl.logger: 10-20 00:41:33] {2442} INFO -  at 39.0s,\testimator xgboost's best error=0.1996,\tbest estimator rf's best error=0.1910\n",
      "[flaml.automl.logger: 10-20 00:41:33] {2258} INFO - iteration 115, current learner catboost\n",
      "[flaml.automl.logger: 10-20 00:41:38] {2442} INFO -  at 43.4s,\testimator catboost's best error=0.2012,\tbest estimator rf's best error=0.1910\n",
      "[flaml.automl.logger: 10-20 00:41:38] {2258} INFO - iteration 116, current learner rf\n",
      "[flaml.automl.logger: 10-20 00:41:39] {2442} INFO -  at 44.5s,\testimator rf's best error=0.1910,\tbest estimator rf's best error=0.1910\n",
      "[flaml.automl.logger: 10-20 00:41:39] {2258} INFO - iteration 117, current learner rf\n",
      "[flaml.automl.logger: 10-20 00:41:40] {2442} INFO -  at 45.9s,\testimator rf's best error=0.1910,\tbest estimator rf's best error=0.1910\n",
      "[flaml.automl.logger: 10-20 00:41:40] {2258} INFO - iteration 118, current learner extra_tree\n",
      "[flaml.automl.logger: 10-20 00:41:40] {2442} INFO -  at 46.1s,\testimator extra_tree's best error=0.1928,\tbest estimator rf's best error=0.1910\n",
      "[flaml.automl.logger: 10-20 00:41:40] {2258} INFO - iteration 119, current learner xgboost\n",
      "[flaml.automl.logger: 10-20 00:41:41] {2442} INFO -  at 46.3s,\testimator xgboost's best error=0.1996,\tbest estimator rf's best error=0.1910\n",
      "[flaml.automl.logger: 10-20 00:41:41] {2258} INFO - iteration 120, current learner lgbm\n",
      "[flaml.automl.logger: 10-20 00:41:41] {2442} INFO -  at 46.5s,\testimator lgbm's best error=0.1996,\tbest estimator rf's best error=0.1910\n",
      "[flaml.automl.logger: 10-20 00:41:41] {2258} INFO - iteration 121, current learner xgboost\n",
      "[flaml.automl.logger: 10-20 00:41:41] {2442} INFO -  at 46.6s,\testimator xgboost's best error=0.1996,\tbest estimator rf's best error=0.1910\n",
      "[flaml.automl.logger: 10-20 00:41:41] {2258} INFO - iteration 122, current learner xgboost\n",
      "[flaml.automl.logger: 10-20 00:41:41] {2442} INFO -  at 46.9s,\testimator xgboost's best error=0.1996,\tbest estimator rf's best error=0.1910\n",
      "[flaml.automl.logger: 10-20 00:41:41] {2258} INFO - iteration 123, current learner extra_tree\n",
      "[flaml.automl.logger: 10-20 00:41:42] {2442} INFO -  at 47.3s,\testimator extra_tree's best error=0.1928,\tbest estimator rf's best error=0.1910\n",
      "[flaml.automl.logger: 10-20 00:41:42] {2258} INFO - iteration 124, current learner xgboost\n",
      "[flaml.automl.logger: 10-20 00:41:42] {2442} INFO -  at 47.5s,\testimator xgboost's best error=0.1996,\tbest estimator rf's best error=0.1910\n",
      "[flaml.automl.logger: 10-20 00:41:42] {2258} INFO - iteration 125, current learner rf\n",
      "[flaml.automl.logger: 10-20 00:41:42] {2442} INFO -  at 47.8s,\testimator rf's best error=0.1910,\tbest estimator rf's best error=0.1910\n",
      "[flaml.automl.logger: 10-20 00:41:42] {2258} INFO - iteration 126, current learner lgbm\n",
      "[flaml.automl.logger: 10-20 00:41:42] {2442} INFO -  at 48.0s,\testimator lgbm's best error=0.1996,\tbest estimator rf's best error=0.1910\n",
      "[flaml.automl.logger: 10-20 00:41:42] {2258} INFO - iteration 127, current learner lgbm\n",
      "[flaml.automl.logger: 10-20 00:41:42] {2442} INFO -  at 48.1s,\testimator lgbm's best error=0.1996,\tbest estimator rf's best error=0.1910\n",
      "[flaml.automl.logger: 10-20 00:41:42] {2258} INFO - iteration 128, current learner lgbm\n",
      "[flaml.automl.logger: 10-20 00:41:42] {2442} INFO -  at 48.2s,\testimator lgbm's best error=0.1996,\tbest estimator rf's best error=0.1910\n",
      "[flaml.automl.logger: 10-20 00:41:42] {2258} INFO - iteration 129, current learner rf\n",
      "[flaml.automl.logger: 10-20 00:41:43] {2442} INFO -  at 49.2s,\testimator rf's best error=0.1910,\tbest estimator rf's best error=0.1910\n",
      "[flaml.automl.logger: 10-20 00:41:43] {2258} INFO - iteration 130, current learner extra_tree\n",
      "[flaml.automl.logger: 10-20 00:41:44] {2442} INFO -  at 49.5s,\testimator extra_tree's best error=0.1928,\tbest estimator rf's best error=0.1910\n",
      "[flaml.automl.logger: 10-20 00:41:44] {2258} INFO - iteration 131, current learner rf\n",
      "[flaml.automl.logger: 10-20 00:41:44] {2442} INFO -  at 50.1s,\testimator rf's best error=0.1910,\tbest estimator rf's best error=0.1910\n",
      "[flaml.automl.logger: 10-20 00:41:44] {2258} INFO - iteration 132, current learner rf\n",
      "[flaml.automl.logger: 10-20 00:41:46] {2442} INFO -  at 51.5s,\testimator rf's best error=0.1910,\tbest estimator rf's best error=0.1910\n",
      "[flaml.automl.logger: 10-20 00:41:46] {2258} INFO - iteration 133, current learner extra_tree\n",
      "[flaml.automl.logger: 10-20 00:41:46] {2442} INFO -  at 51.9s,\testimator extra_tree's best error=0.1928,\tbest estimator rf's best error=0.1910\n",
      "[flaml.automl.logger: 10-20 00:41:46] {2258} INFO - iteration 134, current learner lgbm\n",
      "[flaml.automl.logger: 10-20 00:41:46] {2442} INFO -  at 52.1s,\testimator lgbm's best error=0.1996,\tbest estimator rf's best error=0.1910\n",
      "[flaml.automl.logger: 10-20 00:41:46] {2258} INFO - iteration 135, current learner rf\n",
      "[flaml.automl.logger: 10-20 00:41:47] {2442} INFO -  at 52.5s,\testimator rf's best error=0.1910,\tbest estimator rf's best error=0.1910\n",
      "[flaml.automl.logger: 10-20 00:41:47] {2258} INFO - iteration 136, current learner xgboost\n",
      "[flaml.automl.logger: 10-20 00:41:47] {2442} INFO -  at 52.8s,\testimator xgboost's best error=0.1996,\tbest estimator rf's best error=0.1910\n",
      "[flaml.automl.logger: 10-20 00:41:47] {2258} INFO - iteration 137, current learner sgd\n",
      "[flaml.automl.logger: 10-20 00:41:47] {2442} INFO -  at 53.1s,\testimator sgd's best error=0.7431,\tbest estimator rf's best error=0.1910\n",
      "[flaml.automl.logger: 10-20 00:41:47] {2258} INFO - iteration 138, current learner rf\n",
      "[flaml.automl.logger: 10-20 00:41:48] {2442} INFO -  at 53.9s,\testimator rf's best error=0.1910,\tbest estimator rf's best error=0.1910\n",
      "[flaml.automl.logger: 10-20 00:41:48] {2258} INFO - iteration 139, current learner lgbm\n",
      "[flaml.automl.logger: 10-20 00:41:48] {2442} INFO -  at 54.0s,\testimator lgbm's best error=0.1996,\tbest estimator rf's best error=0.1910\n",
      "[flaml.automl.logger: 10-20 00:41:48] {2258} INFO - iteration 140, current learner xgboost\n",
      "[flaml.automl.logger: 10-20 00:41:48] {2442} INFO -  at 54.2s,\testimator xgboost's best error=0.1996,\tbest estimator rf's best error=0.1910\n",
      "[flaml.automl.logger: 10-20 00:41:48] {2258} INFO - iteration 141, current learner rf\n",
      "[flaml.automl.logger: 10-20 00:41:49] {2442} INFO -  at 54.8s,\testimator rf's best error=0.1910,\tbest estimator rf's best error=0.1910\n",
      "[flaml.automl.logger: 10-20 00:41:49] {2258} INFO - iteration 142, current learner extra_tree\n",
      "[flaml.automl.logger: 10-20 00:41:49] {2442} INFO -  at 55.1s,\testimator extra_tree's best error=0.1928,\tbest estimator rf's best error=0.1910\n",
      "[flaml.automl.logger: 10-20 00:41:49] {2258} INFO - iteration 143, current learner rf\n",
      "[flaml.automl.logger: 10-20 00:41:50] {2442} INFO -  at 55.6s,\testimator rf's best error=0.1910,\tbest estimator rf's best error=0.1910\n",
      "[flaml.automl.logger: 10-20 00:41:50] {2258} INFO - iteration 144, current learner extra_tree\n",
      "[flaml.automl.logger: 10-20 00:41:50] {2442} INFO -  at 55.9s,\testimator extra_tree's best error=0.1928,\tbest estimator rf's best error=0.1910\n",
      "[flaml.automl.logger: 10-20 00:41:50] {2258} INFO - iteration 145, current learner xgboost\n",
      "[flaml.automl.logger: 10-20 00:41:50] {2442} INFO -  at 56.1s,\testimator xgboost's best error=0.1996,\tbest estimator rf's best error=0.1910\n",
      "[flaml.automl.logger: 10-20 00:41:50] {2258} INFO - iteration 146, current learner rf\n",
      "[flaml.automl.logger: 10-20 00:41:51] {2442} INFO -  at 56.8s,\testimator rf's best error=0.1910,\tbest estimator rf's best error=0.1910\n",
      "[flaml.automl.logger: 10-20 00:41:51] {2258} INFO - iteration 147, current learner lgbm\n",
      "[flaml.automl.logger: 10-20 00:41:51] {2442} INFO -  at 57.0s,\testimator lgbm's best error=0.1996,\tbest estimator rf's best error=0.1910\n",
      "[flaml.automl.logger: 10-20 00:41:51] {2258} INFO - iteration 148, current learner lgbm\n",
      "[flaml.automl.logger: 10-20 00:41:51] {2442} INFO -  at 57.1s,\testimator lgbm's best error=0.1996,\tbest estimator rf's best error=0.1910\n",
      "[flaml.automl.logger: 10-20 00:41:51] {2258} INFO - iteration 149, current learner lgbm\n",
      "[flaml.automl.logger: 10-20 00:41:51] {2442} INFO -  at 57.2s,\testimator lgbm's best error=0.1996,\tbest estimator rf's best error=0.1910\n",
      "[flaml.automl.logger: 10-20 00:41:51] {2258} INFO - iteration 150, current learner lgbm\n",
      "[flaml.automl.logger: 10-20 00:41:52] {2442} INFO -  at 57.4s,\testimator lgbm's best error=0.1996,\tbest estimator rf's best error=0.1910\n",
      "[flaml.automl.logger: 10-20 00:41:52] {2258} INFO - iteration 151, current learner lgbm\n",
      "[flaml.automl.logger: 10-20 00:41:52] {2442} INFO -  at 57.5s,\testimator lgbm's best error=0.1996,\tbest estimator rf's best error=0.1910\n",
      "[flaml.automl.logger: 10-20 00:41:52] {2258} INFO - iteration 152, current learner rf\n",
      "[flaml.automl.logger: 10-20 00:41:52] {2442} INFO -  at 57.9s,\testimator rf's best error=0.1910,\tbest estimator rf's best error=0.1910\n",
      "[flaml.automl.logger: 10-20 00:41:52] {2258} INFO - iteration 153, current learner xgboost\n",
      "[flaml.automl.logger: 10-20 00:41:52] {2442} INFO -  at 58.1s,\testimator xgboost's best error=0.1996,\tbest estimator rf's best error=0.1910\n",
      "[flaml.automl.logger: 10-20 00:41:52] {2258} INFO - iteration 154, current learner rf\n",
      "[flaml.automl.logger: 10-20 00:41:53] {2442} INFO -  at 58.8s,\testimator rf's best error=0.1910,\tbest estimator rf's best error=0.1910\n",
      "[flaml.automl.logger: 10-20 00:41:53] {2258} INFO - iteration 155, current learner lgbm\n",
      "[flaml.automl.logger: 10-20 00:41:53] {2442} INFO -  at 58.9s,\testimator lgbm's best error=0.1996,\tbest estimator rf's best error=0.1910\n",
      "[flaml.automl.logger: 10-20 00:41:53] {2258} INFO - iteration 156, current learner lgbm\n",
      "[flaml.automl.logger: 10-20 00:41:53] {2442} INFO -  at 59.1s,\testimator lgbm's best error=0.1996,\tbest estimator rf's best error=0.1910\n",
      "[flaml.automl.logger: 10-20 00:41:53] {2258} INFO - iteration 157, current learner sgd\n",
      "[flaml.automl.logger: 10-20 00:41:54] {2442} INFO -  at 59.3s,\testimator sgd's best error=0.7431,\tbest estimator rf's best error=0.1910\n",
      "[flaml.automl.logger: 10-20 00:41:54] {2258} INFO - iteration 158, current learner rf\n",
      "[flaml.automl.logger: 10-20 00:41:54] {2442} INFO -  at 60.0s,\testimator rf's best error=0.1910,\tbest estimator rf's best error=0.1910\n",
      "[flaml.automl.logger: 10-20 00:41:54] {2258} INFO - iteration 159, current learner xgb_limitdepth\n",
      "[flaml.automl.logger: 10-20 00:41:54] {2442} INFO -  at 60.0s,\testimator xgb_limitdepth's best error=0.7836,\tbest estimator rf's best error=0.1910\n",
      "[flaml.automl.logger: 10-20 00:41:54] {2685} INFO - retrain rf for 0.1s\n",
      "[flaml.automl.logger: 10-20 00:41:54] {2688} INFO - retrained model: RandomForestClassifier(criterion='entropy', max_features=1.0, max_leaf_nodes=4,\n",
      "                       n_estimators=28, n_jobs=-1, random_state=12032022)\n",
      "[flaml.automl.logger: 10-20 00:41:54] {1985} INFO - fit succeeded\n",
      "[flaml.automl.logger: 10-20 00:41:54] {1986} INFO - Time taken to find the best model: 54.78299069404602\n"
     ]
    }
   ],
   "source": [
    "automl = AutoML()\n",
    "\n",
    "automl.fit(X_train, y_train, time_budget=60)  \n",
    "\n",
    "\n"
   ]
  },
  {
   "cell_type": "code",
   "execution_count": 13,
   "id": "c354d5bf",
   "metadata": {
    "execution": {
     "iopub.execute_input": "2024-10-20T00:41:54.934807Z",
     "iopub.status.busy": "2024-10-20T00:41:54.934340Z",
     "iopub.status.idle": "2024-10-20T00:41:54.941626Z",
     "shell.execute_reply": "2024-10-20T00:41:54.940235Z"
    },
    "papermill": {
     "duration": 0.058286,
     "end_time": "2024-10-20T00:41:54.944579",
     "exception": false,
     "start_time": "2024-10-20T00:41:54.886293",
     "status": "completed"
    },
    "tags": []
   },
   "outputs": [
    {
     "name": "stdout",
     "output_type": "stream",
     "text": [
      "Best Model: rf\n",
      "Best Loss on validation set: 0.19097311113873888\n"
     ]
    }
   ],
   "source": [
    "print(\"Best Model:\", automl.best_estimator)\n",
    "print(\"Best Loss on validation set:\", automl.best_loss)"
   ]
  },
  {
   "cell_type": "code",
   "execution_count": 14,
   "id": "9d180b9d",
   "metadata": {
    "execution": {
     "iopub.execute_input": "2024-10-20T00:41:55.030242Z",
     "iopub.status.busy": "2024-10-20T00:41:55.029740Z",
     "iopub.status.idle": "2024-10-20T00:41:55.063684Z",
     "shell.execute_reply": "2024-10-20T00:41:55.061935Z"
    },
    "papermill": {
     "duration": 0.079029,
     "end_time": "2024-10-20T00:41:55.066599",
     "exception": false,
     "start_time": "2024-10-20T00:41:54.987570",
     "status": "completed"
    },
    "tags": []
   },
   "outputs": [
    {
     "name": "stdout",
     "output_type": "stream",
     "text": [
      "Test accuracy: 0.85375\n"
     ]
    }
   ],
   "source": [
    "test_accuracy = automl.score(X_test, y_test)\n",
    "print(\"Test accuracy:\", test_accuracy)"
   ]
  },
  {
   "cell_type": "code",
   "execution_count": 15,
   "id": "644af27e",
   "metadata": {
    "execution": {
     "iopub.execute_input": "2024-10-20T00:41:55.190001Z",
     "iopub.status.busy": "2024-10-20T00:41:55.189564Z",
     "iopub.status.idle": "2024-10-20T00:41:55.196859Z",
     "shell.execute_reply": "2024-10-20T00:41:55.195350Z"
    },
    "papermill": {
     "duration": 0.078654,
     "end_time": "2024-10-20T00:41:55.200067",
     "exception": false,
     "start_time": "2024-10-20T00:41:55.121413",
     "status": "completed"
    },
    "tags": []
   },
   "outputs": [],
   "source": [
    "model=automl\n",
    "filename = 'encryption_QPC_12.pkl'\n"
   ]
  },
  {
   "cell_type": "code",
   "execution_count": 16,
   "id": "ef241b88",
   "metadata": {
    "execution": {
     "iopub.execute_input": "2024-10-20T00:41:55.288697Z",
     "iopub.status.busy": "2024-10-20T00:41:55.288233Z",
     "iopub.status.idle": "2024-10-20T00:41:55.311534Z",
     "shell.execute_reply": "2024-10-20T00:41:55.310226Z"
    },
    "papermill": {
     "duration": 0.072257,
     "end_time": "2024-10-20T00:41:55.315059",
     "exception": false,
     "start_time": "2024-10-20T00:41:55.242802",
     "status": "completed"
    },
    "tags": []
   },
   "outputs": [],
   "source": [
    "with open(filename, 'wb') as file:\n",
    "    pickle.dump(model, file)\n"
   ]
  },
  {
   "cell_type": "code",
   "execution_count": 17,
   "id": "d2ca022f",
   "metadata": {
    "execution": {
     "iopub.execute_input": "2024-10-20T00:41:55.401896Z",
     "iopub.status.busy": "2024-10-20T00:41:55.401478Z",
     "iopub.status.idle": "2024-10-20T00:41:55.425050Z",
     "shell.execute_reply": "2024-10-20T00:41:55.423695Z"
    },
    "papermill": {
     "duration": 0.072006,
     "end_time": "2024-10-20T00:41:55.428297",
     "exception": false,
     "start_time": "2024-10-20T00:41:55.356291",
     "status": "completed"
    },
    "tags": []
   },
   "outputs": [],
   "source": [
    "with open(filename, 'rb') as file:\n",
    "    loaded_model = pickle.load(file)"
   ]
  },
  {
   "cell_type": "code",
   "execution_count": 18,
   "id": "7e37232f",
   "metadata": {
    "execution": {
     "iopub.execute_input": "2024-10-20T00:41:55.512571Z",
     "iopub.status.busy": "2024-10-20T00:41:55.511954Z",
     "iopub.status.idle": "2024-10-20T00:41:55.541716Z",
     "shell.execute_reply": "2024-10-20T00:41:55.540286Z"
    },
    "papermill": {
     "duration": 0.077072,
     "end_time": "2024-10-20T00:41:55.545605",
     "exception": false,
     "start_time": "2024-10-20T00:41:55.468533",
     "status": "completed"
    },
    "tags": []
   },
   "outputs": [],
   "source": [
    "\n",
    "test_accuracy = loaded_model.score(X_test, y_test)\n"
   ]
  },
  {
   "cell_type": "code",
   "execution_count": 19,
   "id": "e02d288e",
   "metadata": {
    "execution": {
     "iopub.execute_input": "2024-10-20T00:41:55.627534Z",
     "iopub.status.busy": "2024-10-20T00:41:55.627016Z",
     "iopub.status.idle": "2024-10-20T00:41:55.635126Z",
     "shell.execute_reply": "2024-10-20T00:41:55.633825Z"
    },
    "papermill": {
     "duration": 0.052223,
     "end_time": "2024-10-20T00:41:55.637855",
     "exception": false,
     "start_time": "2024-10-20T00:41:55.585632",
     "status": "completed"
    },
    "tags": []
   },
   "outputs": [
    {
     "data": {
      "text/plain": [
       "0.85375"
      ]
     },
     "execution_count": 19,
     "metadata": {},
     "output_type": "execute_result"
    }
   ],
   "source": [
    "test_accuracy"
   ]
  },
  {
   "cell_type": "code",
   "execution_count": null,
   "id": "1fd5a7b5",
   "metadata": {
    "papermill": {
     "duration": 0.040157,
     "end_time": "2024-10-20T00:41:55.717907",
     "exception": false,
     "start_time": "2024-10-20T00:41:55.677750",
     "status": "completed"
    },
    "tags": []
   },
   "outputs": [],
   "source": []
  }
 ],
 "metadata": {
  "kaggle": {
   "accelerator": "none",
   "dataSources": [
    {
     "datasetId": 5909618,
     "sourceId": 9670618,
     "sourceType": "datasetVersion"
    }
   ],
   "dockerImageVersionId": 30786,
   "isGpuEnabled": false,
   "isInternetEnabled": true,
   "language": "python",
   "sourceType": "notebook"
  },
  "kernelspec": {
   "display_name": "Python 3",
   "language": "python",
   "name": "python3"
  },
  "language_info": {
   "codemirror_mode": {
    "name": "ipython",
    "version": 3
   },
   "file_extension": ".py",
   "mimetype": "text/x-python",
   "name": "python",
   "nbconvert_exporter": "python",
   "pygments_lexer": "ipython3",
   "version": "3.10.14"
  },
  "papermill": {
   "default_parameters": {},
   "duration": 101.603322,
   "end_time": "2024-10-20T00:41:58.418692",
   "environment_variables": {},
   "exception": null,
   "input_path": "__notebook__.ipynb",
   "output_path": "__notebook__.ipynb",
   "parameters": {},
   "start_time": "2024-10-20T00:40:16.815370",
   "version": "2.6.0"
  }
 },
 "nbformat": 4,
 "nbformat_minor": 5
}
